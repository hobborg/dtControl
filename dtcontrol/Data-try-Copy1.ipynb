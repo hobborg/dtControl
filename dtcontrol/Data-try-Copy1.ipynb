{
 "cells": [
  {
   "cell_type": "code",
   "execution_count": 1,
   "metadata": {},
   "outputs": [],
   "source": [
    "%load_ext autoreload\n",
    "%autoreload 2"
   ]
  },
  {
   "cell_type": "code",
   "execution_count": 2,
   "metadata": {},
   "outputs": [],
   "source": [
    "import numpy as np\n",
    "import pandas as pd\n",
    "from dataset.multi_output_dataset import MultiOutputDataset\n",
    "from dataset.single_output_dataset import SingleOutputDataset\n",
    "from sklearn.tree import DecisionTreeClassifier"
   ]
  },
  {
   "cell_type": "code",
   "execution_count": 51,
   "metadata": {},
   "outputs": [],
   "source": [
    "x = np.array(pd.read_pickle('../XYdatasets/cruise-latest_old.vector'))\n",
    "y = np.load('../XYdatasets/cruise-latest_old.npy')"
   ]
  },
  {
   "cell_type": "code",
   "execution_count": 52,
   "metadata": {},
   "outputs": [],
   "source": [
    "    def convert_vector_labels_to_new_format(labels):\n",
    "        m = np.max(np.nonzero(labels)[1]) + 1\n",
    "        l = []\n",
    "        for row in labels:\n",
    "            values = list(np.nonzero(row)[0] + 1)\n",
    "            filler = [-1] * (m - len(values))\n",
    "            l.append(values + filler)\n",
    "        return np.array(l)"
   ]
  },
  {
   "cell_type": "code",
   "execution_count": 53,
   "metadata": {},
   "outputs": [],
   "source": [
    "y = convert_vector_labels_to_new_format(y)"
   ]
  },
  {
   "cell_type": "code",
   "execution_count": 54,
   "metadata": {},
   "outputs": [],
   "source": [
    "    def _get_max_labels(labels):\n",
    "        flattened_labels = labels.flatten()\n",
    "        # remove -1 as we use it only as a filler\n",
    "        flattened_labels = flattened_labels[flattened_labels != -1]\n",
    "        label_counts = np.bincount(flattened_labels)\n",
    "        new_labels = []\n",
    "        for i in range(len(labels)):\n",
    "            current = labels[i]\n",
    "            current = current[current != -1]\n",
    "            max_label = max(list(current), key=lambda l: label_counts[l])\n",
    "            assert max_label != -1\n",
    "            new_labels.append(max_label)\n",
    "        return np.array(new_labels), label_counts"
   ]
  },
  {
   "cell_type": "code",
   "execution_count": 55,
   "metadata": {},
   "outputs": [],
   "source": [
    "det_y, counts = _get_max_labels(y)"
   ]
  },
  {
   "cell_type": "code",
   "execution_count": 56,
   "metadata": {},
   "outputs": [
    {
     "data": {
      "text/plain": [
       "array([     0,  14821,      0, 281149])"
      ]
     },
     "execution_count": 56,
     "metadata": {},
     "output_type": "execute_result"
    }
   ],
   "source": [
    "np.bincount(det_y)"
   ]
  },
  {
   "cell_type": "code",
   "execution_count": 111,
   "metadata": {},
   "outputs": [
    {
     "data": {
      "text/plain": [
       "array([     0,    175,    204,    264,    200,    251,    260,    333,\n",
       "          287,    304,    145,    230,    304,    259,    246,    210,\n",
       "          217,    259,    259,    204,    316,    212,    216,    276,\n",
       "          288,    404,    329,    440,    324,    278,    334,    338,\n",
       "          316,    375,    264,    374,    336,    365, 518022,    211,\n",
       "          188,    231])"
      ]
     },
     "execution_count": 111,
     "metadata": {},
     "output_type": "execute_result"
    }
   ],
   "source": [
    "np.bincount(det_l)"
   ]
  },
  {
   "cell_type": "code",
   "execution_count": 112,
   "metadata": {},
   "outputs": [
    {
     "data": {
      "text/plain": [
       "array([     0,    489,    640,    604,    509,    595,    696,    600,\n",
       "          498,    473,    556,    652,    557,    565,    502,    541,\n",
       "          503,    540,    454,    418,    550,    385,    470,    481,\n",
       "          437,    537,    452,    379,    364,    384,    457,    420,\n",
       "          428,    243,    369,    292,    351,    332,    476, 837706,\n",
       "          603,    655])"
      ]
     },
     "execution_count": 112,
     "metadata": {},
     "output_type": "execute_result"
    }
   ],
   "source": [
    "np.bincount(det_r)"
   ]
  },
  {
   "cell_type": "code",
   "execution_count": null,
   "metadata": {},
   "outputs": [],
   "source": []
  }
 ],
 "metadata": {
  "kernelspec": {
   "display_name": "Python 3",
   "language": "python",
   "name": "python3"
  },
  "language_info": {
   "codemirror_mode": {
    "name": "ipython",
    "version": 3
   },
   "file_extension": ".py",
   "mimetype": "text/x-python",
   "name": "python",
   "nbconvert_exporter": "python",
   "pygments_lexer": "ipython3",
   "version": "3.6.8"
  }
 },
 "nbformat": 4,
 "nbformat_minor": 2
}
