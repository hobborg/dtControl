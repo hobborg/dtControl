{
 "cells": [
  {
   "cell_type": "code",
   "execution_count": 1,
   "metadata": {},
   "outputs": [],
   "source": [
    "%load_ext autoreload\n",
    "%autoreload"
   ]
  },
  {
   "cell_type": "code",
   "execution_count": 9,
   "metadata": {},
   "outputs": [],
   "source": [
    "from notebooks import project_path\n",
    "from src.benchmark_suite import BenchmarkSuite\n",
    "from src.classifiers.decision_tree import DecisionTree\n",
    "from src.classifiers.determinization.nondet_determinizer import NondetDeterminizer\n",
    "from src.classifiers.determinization.norm_determinizer import NormDeterminizer\n",
    "from src.classifiers.impurity.entropy import Entropy\n",
    "from src.classifiers.splitting.cart import CartSplittingStrategy\n",
    "from src.classifiers.splitting.linear_classifier import LinearClassifierSplittingStrategy\n",
    "from sklearn.linear_model import LogisticRegression\n",
    "from sklearn.svm import LinearSVC"
   ]
  },
  {
   "cell_type": "code",
   "execution_count": 10,
   "metadata": {},
   "outputs": [
    {
     "name": "stdout",
     "output_type": "stream",
     "text": [
      "Benchmark statistics will be available in benchmark_example.json and benchmark_example.html.\n",
      "Constructed trees will be written to decision_trees.\n",
      "\n"
     ]
    }
   ],
   "source": [
    "suite = BenchmarkSuite(timeout=60 * 5, save_folder='saved_classifiers', benchmark_file='benchmark_example', rerun=True)\n",
    "suite.add_datasets(['examples'], include=['cartpole', '10rooms'])"
   ]
  },
  {
   "cell_type": "code",
   "execution_count": 11,
   "metadata": {},
   "outputs": [],
   "source": [
    "cart = CartSplittingStrategy()\n",
    "logreg = LinearClassifierSplittingStrategy(LogisticRegression, solver='lbfgs', penalty='none')\n",
    "classifiers = [\n",
    "    DecisionTree(NondetDeterminizer(), [cart], Entropy(), 'CART'),\n",
    "    # DecisionTree(NondetDeterminizer(), [cart, logreg], Entropy(), 'logreg'),\n",
    "    # DecisionTree(MaxFreqDeterminizer(), [cart], Entropy(), 'MaxFreq'),\n",
    "    # DecisionTree(NormDeterminizer(min), [cart], Entropy(), 'MinNorm'),\n",
    "    DecisionTree(NormDeterminizer(min), [cart, logreg], Entropy(), 'minnorm-logreg'),\n",
    "]"
   ]
  },
  {
   "cell_type": "code",
   "execution_count": 12,
   "metadata": {
    "scrolled": true
   },
   "outputs": [
    {
     "name": "stdout",
     "output_type": "stream",
     "text": [
      "1/4: Evaluating CART on 10rooms... \n",
      "Loading existing converted dataset... Done.\n",
      "1/4: Finished in 00:00:06.195.\n",
      "2/4: Evaluating minnorm-logreg on 10rooms... \n",
      "2/4: Finished in 00:00:07.167.\n",
      "3/4: Evaluating CART on cartpole... \n",
      "Loading existing converted dataset... Done.\n",
      "3/4: Finished in 00:00:00.146.\n",
      "4/4: Evaluating minnorm-logreg on cartpole... \n",
      "4/4: Finished in 00:00:01.179.\n",
      "All benchmarks completed. Shutting down dtControl.\n"
     ]
    }
   ],
   "source": [
    "suite.benchmark(classifiers)"
   ]
  },
  {
   "cell_type": "code",
   "execution_count": 13,
   "metadata": {},
   "outputs": [],
   "source": [
    "suite.display_html()"
   ]
  },
  {
   "cell_type": "code",
   "execution_count": 7,
   "metadata": {},
   "outputs": [],
   "source": [
    "# suite.delete_cell('10rooms', 'LinearClassifierDT-LogisticRegression ')\n",
    "# suite.delete_cell('10rooms', 'MaxFreqDT')"
   ]
  }
 ],
 "metadata": {
  "kernelspec": {
   "display_name": "Python 3",
   "language": "python",
   "name": "python3"
  },
  "language_info": {
   "codemirror_mode": {
    "name": "ipython",
    "version": 3
   },
   "file_extension": ".py",
   "mimetype": "text/x-python",
   "name": "python",
   "nbconvert_exporter": "python",
   "pygments_lexer": "ipython3",
   "version": "3.6.9"
  },
  "pycharm": {
   "stem_cell": {
    "cell_type": "raw",
    "metadata": {
     "collapsed": false
    },
    "source": []
   }
  }
 },
 "nbformat": 4,
 "nbformat_minor": 1
}
