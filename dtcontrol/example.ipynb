{
 "cells": [
  {
   "cell_type": "code",
   "execution_count": 1,
   "metadata": {},
   "outputs": [],
   "source": [
    "%load_ext autoreload\n",
    "%autoreload"
   ]
  },
  {
   "cell_type": "code",
   "execution_count": 2,
   "metadata": {},
   "outputs": [],
   "source": [
    "import project_path\n",
    "from benchmark_suite import BenchmarkSuite\n",
    "from dtcontrol.classifiers.linear_classifier_dt import LinearClassifierDT\n",
    "from dtcontrol.classifiers.cart_custom_dt import CartDT\n",
    "from dtcontrol.classifiers.max_freq_dt import MaxFreqDT\n",
    "from dtcontrol.classifiers.max_freq_linear_classifier_dt import MaxFreqLinearClassifierDT\n",
    "from dtcontrol.classifiers.oc1_wrapper import OC1Wrapper\n",
    "from sklearn.linear_model import LogisticRegression\n",
    "from sklearn.svm import LinearSVC"
   ]
  },
  {
   "cell_type": "code",
   "execution_count": 3,
   "metadata": {},
   "outputs": [
    {
     "name": "stderr",
     "output_type": "stream",
     "text": [
      "Benchmark statistics will be available in benchmark_oc1.json and benchmark_oc1.html.\n",
      "Constructed trees will be written to decision_trees.\n"
     ]
    }
   ],
   "source": [
    "suite = BenchmarkSuite(timeout=5*60, save_folder='saved_classifiers', benchmark_file='benchmark_oc1', rerun=True)\n",
    "suite.add_datasets(['examples'],\n",
    "                   include=['cartpole', '10rooms']\n",
    "                  )"
   ]
  },
  {
   "cell_type": "code",
   "execution_count": 4,
   "metadata": {},
   "outputs": [],
   "source": [
    "classifiers = [CartDT(),\n",
    "               LinearClassifierDT(LogisticRegression, solver='lbfgs', penalty='none'),\n",
    "               # LinearClassifierDecisionTree(LinearSVC, max_iter=5000),\n",
    "               MaxFreqDT(),\n",
    "               #MaxLCDecisionTree(LogisticRegression, solver='lbfgs', penalty='none'),\n",
    "               OC1Wrapper(num_restarts=1, num_jumps=1)  # 20, 5\n",
    "              ]"
   ]
  },
  {
   "cell_type": "code",
   "execution_count": 5,
   "metadata": {
    "scrolled": true
   },
   "outputs": [
    {
     "name": "stderr",
     "output_type": "stream",
     "text": [
      "1/8: Evaluating CART on 10rooms... \n"
     ]
    },
    {
     "name": "stdout",
     "output_type": "stream",
     "text": [
      "Loading existing pickled dataset... done loading.\n"
     ]
    },
    {
     "name": "stderr",
     "output_type": "stream",
     "text": [
      "1/8: Evaluated CART on 10rooms in 00:00:05.365.\n",
      "2/8: Evaluating LinearClassifierDT-LogisticRegression on 10rooms... \n",
      "2/8: Evaluated LinearClassifierDT-LogisticRegression on 10rooms in 00:00:23.994.\n",
      "3/8: Evaluating MaxFreqDT on 10rooms... \n",
      "3/8: Evaluated MaxFreqDT on 10rooms in 00:00:01.005.\n",
      "4/8: Evaluating OC1 on 10rooms... \n",
      "4/8: Evaluated OC1 on 10rooms in 00:00:04.559.\n",
      "5/8: Evaluating CART on cartpole... \n"
     ]
    },
    {
     "name": "stdout",
     "output_type": "stream",
     "text": [
      "Loading existing pickled dataset... done loading.\n"
     ]
    },
    {
     "name": "stderr",
     "output_type": "stream",
     "text": [
      "5/8: Evaluated CART on cartpole in 00:00:00.145.\n",
      "6/8: Evaluating LinearClassifierDT-LogisticRegression on cartpole... \n",
      "6/8: Evaluated LinearClassifierDT-LogisticRegression on cartpole in 00:00:03.141.\n",
      "7/8: Evaluating MaxFreqDT on cartpole... \n",
      "7/8: Evaluated MaxFreqDT on cartpole in 00:00:00.074.\n",
      "8/8: Evaluating OC1 on cartpole... \n",
      "8/8: Evaluated OC1 on cartpole in 00:00:00.137.\n",
      "All benchmarks completed. Shutting down dtControl.\n"
     ]
    }
   ],
   "source": [
    "suite.benchmark(classifiers)"
   ]
  },
  {
   "cell_type": "code",
   "execution_count": 6,
   "metadata": {},
   "outputs": [],
   "source": [
    "suite.display_html()"
   ]
  },
  {
   "cell_type": "code",
   "execution_count": 7,
   "metadata": {},
   "outputs": [],
   "source": [
    "# suite.delete_cell('10rooms', 'LinearClassifierDT-LogisticRegression ')\n",
    "# suite.delete_cell('10rooms', 'MaxFreqDT')"
   ]
  },
  {
   "cell_type": "code",
   "execution_count": null,
   "metadata": {},
   "outputs": [],
   "source": []
  }
 ],
 "metadata": {
  "kernelspec": {
   "display_name": "Python 3",
   "language": "python",
   "name": "python3"
  },
  "language_info": {
   "codemirror_mode": {
    "name": "ipython",
    "version": 3
   },
   "file_extension": ".py",
   "mimetype": "text/x-python",
   "name": "python",
   "nbconvert_exporter": "python",
   "pygments_lexer": "ipython3",
   "version": "3.6.8"
  },
  "pycharm": {
   "stem_cell": {
    "cell_type": "raw",
    "metadata": {
     "collapsed": false
    },
    "source": []
   }
  }
 },
 "nbformat": 4,
 "nbformat_minor": 1
}
