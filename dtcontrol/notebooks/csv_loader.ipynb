{
 "cells": [
  {
   "cell_type": "code",
   "execution_count": 2,
   "metadata": {},
   "outputs": [],
   "source": [
    "import sys\n",
    "sys.path.append(\"..\")"
   ]
  },
  {
   "cell_type": "code",
   "execution_count": 3,
   "metadata": {},
   "outputs": [],
   "source": [
    "from dtcontrol.dataset.dataset_loader import DatasetLoader\n",
    "from dtcontrol.dataset.scots_dataset_loader import ScotsDatasetLoader\n",
    "import numpy as np"
   ]
  },
  {
   "cell_type": "code",
   "execution_count": 7,
   "metadata": {},
   "outputs": [
    {
     "name": "stderr",
     "output_type": "stream",
     "text": [
      "  9%|▊         | 2265/26244 [00:00<00:02, 11025.81it/s]"
     ]
    },
    {
     "name": "stdout",
     "output_type": "stream",
     "text": [
      "Reading from examples/10rooms.scs\n"
     ]
    },
    {
     "name": "stderr",
     "output_type": "stream",
     "text": [
      " 97%|█████████▋| 25504/26244 [00:02<00:00, 11450.90it/s]"
     ]
    },
    {
     "name": "stdout",
     "output_type": "stream",
     "text": [
      "Constructed training set with 26244 datapoints\n"
     ]
    },
    {
     "name": "stderr",
     "output_type": "stream",
     "text": [
      "\n"
     ]
    }
   ],
   "source": [
    "controller = 'examples/10rooms.scs'\n",
    "X, _, y, _, index_to_value = ScotsDatasetLoader().load_dataset(controller)"
   ]
  },
  {
   "cell_type": "code",
   "execution_count": 8,
   "metadata": {},
   "outputs": [],
   "source": [
    "csv = controller.replace('scs', 'csv')\n",
    "\n",
    "f = open(csv, 'w')\n",
    "for i in range(X.shape[0]):\n",
    "    if len(y.shape) == 2:\n",
    "        for e in y[i]:\n",
    "            if e == -1:\n",
    "                break\n",
    "            f.write(\",\".join(map(str, X[i]))+\",\"+str(index_to_value[e])+\"\\n\")\n",
    "    else:\n",
    "        stacked_y = np.stack(y, axis=2)\n",
    "        for e in stacked_y[i]:\n",
    "            if e[0] != -1:\n",
    "                f.write(\",\".join(map(str, X[i]))+\",\"+\",\".join(map(str, map(lambda x: index_to_value[x], e)))+\"\\n\")\n",
    "f.close()"
   ]
  },
  {
   "cell_type": "code",
   "execution_count": 27,
   "metadata": {
    "scrolled": true
   },
   "outputs": [],
   "source": [
    "import pandas as pd\n",
    "\n",
    "csv = 'examples/10rooms.csv'\n",
    "\n",
    "f = open(csv, 'r')\n",
    "state_dim, input_dim = map(int, f.readline().split(\"BEGIN\")[1].split())\n",
    "\n",
    "ds = pd.read_csv(f, header=None)\n",
    "\n",
    "unique_list = []\n",
    "for i in range(state_dim, state_dim+input_dim):\n",
    "    unique_list += ds[i].unique().tolist()\n",
    "index_to_value = {x: y for x, y in enumerate(set(unique_list))}\n",
    "value_to_index = {y: x for x, y in index_to_value.items()}\n",
    "\n",
    "ds[[i for i in range(state_dim, state_dim+input_dim)]] = ds[[i for i in range(state_dim, state_dim+input_dim)]].applymap(lambda x: value_to_index[x])\n",
    "\n",
    "grouped = ds.groupby([i for i in range(state_dim)], sort=False)\n",
    "aggregate = grouped[state_dim].apply(list).reset_index(name=state_dim)\n",
    "for i in range(1, input_dim):\n",
    "    aggregate[state_dim+i] = grouped[state_dim+i].apply(list).reset_index(name=state_dim+i)[state_dim+i]\n",
    "\n",
    "max_non_det = aggregate[state_dim].agg(len).max()\n",
    "\n",
    "for i in range(0, input_dim):\n",
    "    aggregate[state_dim+i] = aggregate[state_dim+i].apply(lambda ls: ls + [-1 for i in range(max_non_det - len(ls))])\n",
    "\n",
    "X_train = np.array(aggregate[[i for i in range(state_dim)]])\n",
    "\n",
    "if input_dim > 1:\n",
    "    Y_train = np.ndarray((input_dim, X_train.shape[0], max_non_det), dtype=np.int16)\n",
    "    for i in range(input_dim):\n",
    "        Y_train[i] = np.array(aggregate[state_dim+i].tolist())\n",
    "else:  # input_dim = 1\n",
    "    Y_train = np.array(aggregate[state_dim].tolist())"
   ]
  },
  {
   "cell_type": "code",
   "execution_count": 29,
   "metadata": {},
   "outputs": [
    {
     "data": {
      "text/plain": [
       "array([[[ 1, -1, -1, ..., -1, -1, -1],\n",
       "        [ 1, -1, -1, ..., -1, -1, -1],\n",
       "        [ 1, -1, -1, ..., -1, -1, -1],\n",
       "        ...,\n",
       "        [ 0,  2, -1, ..., -1, -1, -1],\n",
       "        [ 0, -1, -1, ..., -1, -1, -1],\n",
       "        [ 0, -1, -1, ..., -1, -1, -1]],\n",
       "\n",
       "       [[ 1, -1, -1, ..., -1, -1, -1],\n",
       "        [ 1, -1, -1, ..., -1, -1, -1],\n",
       "        [ 1, -1, -1, ..., -1, -1, -1],\n",
       "        ...,\n",
       "        [ 0,  0, -1, ..., -1, -1, -1],\n",
       "        [ 0, -1, -1, ..., -1, -1, -1],\n",
       "        [ 0, -1, -1, ..., -1, -1, -1]]], dtype=int16)"
      ]
     },
     "execution_count": 29,
     "metadata": {},
     "output_type": "execute_result"
    }
   ],
   "source": [
    "Y_train"
   ]
  }
 ],
 "metadata": {
  "kernelspec": {
   "display_name": "Python 3",
   "language": "python",
   "name": "python3"
  },
  "language_info": {
   "codemirror_mode": {
    "name": "ipython",
    "version": 3
   },
   "file_extension": ".py",
   "mimetype": "text/x-python",
   "name": "python",
   "nbconvert_exporter": "python",
   "pygments_lexer": "ipython3",
   "version": "3.6.8"
  }
 },
 "nbformat": 4,
 "nbformat_minor": 2
}
