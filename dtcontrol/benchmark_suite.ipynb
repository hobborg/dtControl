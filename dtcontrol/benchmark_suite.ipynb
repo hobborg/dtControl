{
 "cells": [
  {
   "cell_type": "code",
   "execution_count": 1,
   "metadata": {},
   "outputs": [],
   "source": [
    "%load_ext autoreload\n",
    "%autoreload"
   ]
  },
  {
   "cell_type": "code",
   "execution_count": 9,
   "metadata": {},
   "outputs": [],
   "source": [
    "import project_path\n",
    "from benchmark_suite import BenchmarkSuite\n",
    "from dtcontrol.classifiers.linear_classifier_dt import LinearClassifierDT\n",
    "from dtcontrol.classifiers.cart_custom_dt import CartDT\n",
    "from dtcontrol.classifiers.max_freq_dt import MaxFreqDT\n",
    "from dtcontrol.classifiers.max_freq_linear_classifier_dt import MaxFreqLinearClassifierDT\n",
    "from dtcontrol.classifiers.norm_single_output_dt import NormSingleOutputDT\n",
    "from dtcontrol.classifiers.norm_multi_output_dt import NormMultiOutputDT\n",
    "from dtcontrol.classifiers.norm_single_output_linear_classifier_dt import NormSingleOutputLinearClassifierDT\n",
    "from dtcontrol.classifiers.norm_multi_output_linear_classifier_dt import NormMultiOutputLinearClassifierDT\n",
    "from dtcontrol.classifiers.oc1_wrapper import OC1Wrapper\n",
    "from sklearn.linear_model import LogisticRegression\n",
    "from sklearn.svm import LinearSVC"
   ]
  },
  {
   "cell_type": "code",
   "execution_count": 11,
   "metadata": {},
   "outputs": [
    {
     "name": "stderr",
     "output_type": "stream",
     "text": [
      "Benchmark statistics will be available in benchmark.json and benchmark.html.\n",
      "Constructed trees will be written to decision_trees.\n"
     ]
    }
   ],
   "source": [
    "suite = BenchmarkSuite(timeout=5*60, save_folder='saved_classifiers')\n",
    "suite.add_datasets(['../XYdatasets', '../dumps'],\n",
    "                   include=['cartpole', '10rooms'],\n",
    "                   exclude=['twotanks-all-controllable-euler-latest']\n",
    "                  )"
   ]
  },
  {
   "cell_type": "code",
   "execution_count": 12,
   "metadata": {},
   "outputs": [],
   "source": [
    "classifiers = [CartDT(),\n",
    "               # LinearClassifierDecisionTree(LogisticRegression, solver='lbfgs', penalty='none'),\n",
    "               # LinearClassifierDecisionTree(LinearSVC, max_iter=5000),\n",
    "               MaxFreqDT(),\n",
    "               #MaxLCDecisionTree(LogisticRegression, solver='lbfgs', penalty='none'),\n",
    "               NormSingleOutputDT(max),\n",
    "               NormSingleOutputLinearClassifierDT(max, LogisticRegression, solver='lbfgs'),\n",
    "               NormMultiOutputDT(max),\n",
    "               NormMultiOutputLinearClassifierDT(max, LogisticRegression, solver='lbfgs'),\n",
    "               # OC1Wrapper(num_restarts=20, num_jumps=5)\n",
    "              ]"
   ]
  },
  {
   "cell_type": "code",
   "execution_count": 13,
   "metadata": {
    "scrolled": true
   },
   "outputs": [
    {
     "name": "stderr",
     "output_type": "stream",
     "text": [
      "1/12: Evaluating CART on 10rooms... \n"
     ]
    },
    {
     "name": "stdout",
     "output_type": "stream",
     "text": [
      "Loading existing pickled dataset... done loading.\n"
     ]
    },
    {
     "name": "stderr",
     "output_type": "stream",
     "text": [
      "1/12: Evaluated CART on 10rooms in 00:00:07.381.\n",
      "2/12: Evaluating MaxFreqDT on 10rooms... \n",
      "2/12: Evaluated MaxFreqDT on 10rooms in 00:00:02.053.\n",
      "3/12: Evaluating MaxNormSingleOutputDT on 10rooms... \n",
      "3/12: MaxNormSingleOutputDT is not applicable for 10rooms.\n",
      "4/12: Evaluating MaxNormSingleOutputLinearClassifierDT on 10rooms... \n",
      "4/12: MaxNormSingleOutputLinearClassifierDT is not applicable for 10rooms.\n",
      "5/12: Evaluating MaxNormMultiOutputDT on 10rooms... \n",
      "5/12: Evaluated MaxNormMultiOutputDT on 10rooms in 00:00:04.951.\n",
      "6/12: Evaluating MaxNormMultiOutputLinearClassifierDT on 10rooms... \n",
      "6/12: Evaluated MaxNormMultiOutputLinearClassifierDT on 10rooms in 00:00:14.942.\n",
      "7/12: Evaluating CART on cartpole... \n",
      "7/12: Not running CART on cartpole as result available in benchmark.json.\n",
      "8/12: Evaluating MaxFreqDT on cartpole... \n",
      "8/12: Not running MaxFreqDT on cartpole as result available in benchmark.json.\n",
      "9/12: Evaluating MaxNormSingleOutputDT on cartpole... \n",
      "9/12: Not running MaxNormSingleOutputDT on cartpole as result available in benchmark.json.\n",
      "10/12: Evaluating MaxNormSingleOutputLinearClassifierDT on cartpole... \n",
      "10/12: Not running MaxNormSingleOutputLinearClassifierDT on cartpole as result available in benchmark.json.\n",
      "11/12: Evaluating MaxNormMultiOutputDT on cartpole... \n",
      "11/12: MaxNormMultiOutputDT is not applicable for cartpole.\n",
      "12/12: Evaluating MaxNormMultiOutputLinearClassifierDT on cartpole... \n",
      "12/12: MaxNormMultiOutputLinearClassifierDT is not applicable for cartpole.\n",
      "All benchmarks completed. Shutting down dtControl.\n"
     ]
    }
   ],
   "source": [
    "suite.benchmark(classifiers)"
   ]
  },
  {
   "cell_type": "code",
   "execution_count": 14,
   "metadata": {},
   "outputs": [
    {
     "data": {
      "text/html": [
       "<html><a href=\"benchmark.html\" target=\"_blank\">View table</a></html>"
      ],
      "text/plain": [
       "<IPython.core.display.HTML object>"
      ]
     },
     "metadata": {},
     "output_type": "display_data"
    }
   ],
   "source": [
    "suite.display_html()"
   ]
  },
  {
   "cell_type": "code",
   "execution_count": null,
   "metadata": {},
   "outputs": [],
   "source": []
  }
 ],
 "metadata": {
  "kernelspec": {
   "display_name": "Python 3",
   "language": "python",
   "name": "python3"
  },
  "language_info": {
   "codemirror_mode": {
    "name": "ipython",
    "version": 3
   },
   "file_extension": ".py",
   "mimetype": "text/x-python",
   "name": "python",
   "nbconvert_exporter": "python",
   "pygments_lexer": "ipython3",
   "version": "3.6.8"
  },
  "pycharm": {
   "stem_cell": {
    "cell_type": "raw",
    "metadata": {
     "collapsed": false
    },
    "source": []
   }
  }
 },
 "nbformat": 4,
 "nbformat_minor": 1
}
