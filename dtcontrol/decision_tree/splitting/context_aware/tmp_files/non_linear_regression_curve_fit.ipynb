{
 "cells": [
  {
   "cell_type": "code",
   "execution_count": 207,
   "metadata": {
    "collapsed": true
   },
   "outputs": [
    {
     "data": {
      "text/plain": "c0*x_0 + c1*x_1 + c2*x_2 + c3*x_3 + c4",
      "text/latex": "$\\displaystyle c_{0} x_{0} + c_{1} x_{1} + c_{2} x_{2} + c_{3} x_{3} + c_{4}$"
     },
     "execution_count": 207,
     "metadata": {},
     "output_type": "execute_result"
    }
   ],
   "source": [
    "# https://www.youtube.com/watch?v=4vryPwLtjIY       https://stackoverflow.com/questions/22514896/error-in-using-curve-fit-function-to-sympy-function        https://www.youtube.com/watch?v=1H-SdMuJXTk\n",
    "import sympy as sp\n",
    "import numpy as np\n",
    "\n",
    "term = sp.sympify(\"c0*x_0 + c1*x_1 + c2*x_2 + c3*x_3 + c4\")\n",
    "term"
   ]
  },
  {
   "cell_type": "code",
   "execution_count": 208,
   "outputs": [],
   "source": [
    "# Creating dataset to work with\n",
    "y = np.array([1, 1, 2, 2, 2, 2, 3, 4, 5, 6])\n",
    "x = np.array(\n",
    "[[  1.,    4.6,   1.,    3. ],\n",
    " [  1.,    4.6,   2.,    3. ],\n",
    " [  2.,    4.,    3.,    1. ],\n",
    " [  2.,    4.,    3.,    2. ],\n",
    " [  1.,    4.,    4.,    1. ],\n",
    " [  2.,    4.,    4.,    2. ],\n",
    " [  2.,   53.,    2.,    3. ],\n",
    " [  1.,  228.,    1.,    5. ],\n",
    " [  2.,   93.,    1.,    2. ],\n",
    " [  2.,   59.,    3.,    2. ]])\n",
    "y_1 = np.array([ 1,  1, -1, -1, -1, -1, -1, -1, -1, -1])\n",
    "\n",
    "\n",
    "x_2 = np.array(\n",
    "[[  1.,    4.6,   1.,    3. ],\n",
    " [  1.,    4.6,   2.,    3. ],\n",
    " [  2.,   53.,    2.,    3. ],\n",
    " [  1.,  228.,    1.,    5. ],\n",
    " [  2.,   93.,    1.,    2. ],\n",
    " [  2.,   59.,    3.,    2. ]])\n",
    "y_2 = np.array([1,1,-1,-1,-1,-1])\n",
    "\n",
    "\n"
   ],
   "metadata": {
    "collapsed": false,
    "pycharm": {
     "name": "#%%\n"
    }
   }
  },
  {
   "cell_type": "code",
   "execution_count": 209,
   "outputs": [],
   "source": [
    "# # Creating the function to use\n",
    "# x_0, x_1, x_2, x_3,c0, c1, c2, c3, c4 = sp.symbols('x_0 x_1 x_2 x_3 c0 c1 c2 c3 c4')\n",
    "# fun = sp.Lambda((x_0, x_1, x_2, x_3, c0, c1, c2, c3, c4), term)\n",
    "# fun"
   ],
   "metadata": {
    "collapsed": false,
    "pycharm": {
     "name": "#%%\n"
    }
   }
  },
  {
   "cell_type": "code",
   "execution_count": 210,
   "outputs": [],
   "source": [
    "term = sp.sympify(\"c0*x_0 + c1*x_1 + c2*x_2 + c3*x_3 + c4\")\n",
    "# Muss hier irgendwie das np.array x umstrukturieren, damit es in die fun funktion passt\n",
    "def fun_input_helper(x, c0, c1, c2, c3, c4):\n",
    "    out = []\n",
    "    for features in range(x.shape[0]):\n",
    "        subs_list=[(\"c0\", c0),(\"c1\", c1),(\"c2\", c2),(\"c3\", c3),(\"c4\", c4)]\n",
    "        for i in range(len(x[features,:])):\n",
    "            subs_list.append((\"x_\"+ str(i),x[features,i] ))\n",
    "\n",
    "        result = float(term.subs(subs_list).evalf())\n",
    "        out.append(result)\n",
    "    return np.array(out)"
   ],
   "metadata": {
    "collapsed": false,
    "pycharm": {
     "name": "#%%\n"
    }
   }
  },
  {
   "cell_type": "code",
   "execution_count": 211,
   "outputs": [
    {
     "data": {
      "text/plain": "array([-1.59017442, -0.00752033, -0.10161444, -0.18289934,  3.32423237])"
     },
     "execution_count": 211,
     "metadata": {},
     "output_type": "execute_result"
    }
   ],
   "source": [
    "\n",
    "from scipy.optimize import curve_fit\n",
    "c, cov = curve_fit(fun_input_helper,x_2,y_2)\n",
    "c"
   ],
   "metadata": {
    "collapsed": false,
    "pycharm": {
     "name": "#%%\n"
    }
   }
  },
  {
   "cell_type": "code",
   "execution_count": 212,
   "outputs": [
    {
     "data": {
      "text/plain": "-0.969753463000000",
      "text/latex": "$\\displaystyle -0.969753463$"
     },
     "execution_count": 212,
     "metadata": {},
     "output_type": "execute_result"
    }
   ],
   "source": [
    "sp.sympify(\"-9.69753463e-01\").evalf()"
   ],
   "metadata": {
    "collapsed": false,
    "pycharm": {
     "name": "#%%\n"
    }
   }
  },
  {
   "cell_type": "code",
   "execution_count": 213,
   "outputs": [],
   "source": [
    "def input_adapter(x, *args):\n",
    "    out = []\n",
    "    for features in range(x.shape[0]):\n",
    "        subs_list=[]\n",
    "        for arg_index in len(args):\n",
    "            subs_list.append((\"c\"+str(arg_index)),args[arg_index])\n",
    "        for i in range(len(x[features,:])):\n",
    "            subs_list.append((\"x_\"+ str(i),x[features,i] ))\n",
    "\n",
    "        result = float(term.subs(subs_list).evalf())\n",
    "        out.append(result)\n",
    "    return np.array(out)"
   ],
   "metadata": {
    "collapsed": false,
    "pycharm": {
     "name": "#%%\n"
    }
   }
  },
  {
   "cell_type": "code",
   "execution_count": 214,
   "outputs": [
    {
     "ename": "ValueError",
     "evalue": "Unable to determine number of fit parameters.",
     "output_type": "error",
     "traceback": [
      "\u001B[0;31m---------------------------------------------------------------------------\u001B[0m",
      "\u001B[0;31mValueError\u001B[0m                                Traceback (most recent call last)",
      "\u001B[0;32m<ipython-input-214-367c9ca0c189>\u001B[0m in \u001B[0;36m<module>\u001B[0;34m\u001B[0m\n\u001B[0;32m----> 1\u001B[0;31m \u001B[0mc\u001B[0m\u001B[0;34m,\u001B[0m \u001B[0mcov\u001B[0m \u001B[0;34m=\u001B[0m \u001B[0mcurve_fit\u001B[0m\u001B[0;34m(\u001B[0m\u001B[0minput_adapter\u001B[0m\u001B[0;34m,\u001B[0m\u001B[0mx_2\u001B[0m\u001B[0;34m,\u001B[0m\u001B[0my_2\u001B[0m\u001B[0;34m)\u001B[0m\u001B[0;34m\u001B[0m\u001B[0m\n\u001B[0m\u001B[1;32m      2\u001B[0m \u001B[0mc\u001B[0m\u001B[0;34m\u001B[0m\u001B[0m\n\u001B[1;32m      3\u001B[0m \u001B[0;34m\u001B[0m\u001B[0m\n",
      "\u001B[0;32m~/Desktop/BAThesis/dtcontrol/venv/lib/python3.7/site-packages/scipy/optimize/minpack.py\u001B[0m in \u001B[0;36mcurve_fit\u001B[0;34m(f, xdata, ydata, p0, sigma, absolute_sigma, check_finite, bounds, method, jac, **kwargs)\u001B[0m\n\u001B[1;32m    686\u001B[0m         \u001B[0margs\u001B[0m\u001B[0;34m,\u001B[0m \u001B[0mvarargs\u001B[0m\u001B[0;34m,\u001B[0m \u001B[0mvarkw\u001B[0m\u001B[0;34m,\u001B[0m \u001B[0mdefaults\u001B[0m \u001B[0;34m=\u001B[0m \u001B[0m_getargspec\u001B[0m\u001B[0;34m(\u001B[0m\u001B[0mf\u001B[0m\u001B[0;34m)\u001B[0m\u001B[0;34m\u001B[0m\u001B[0m\n\u001B[1;32m    687\u001B[0m         \u001B[0;32mif\u001B[0m \u001B[0mlen\u001B[0m\u001B[0;34m(\u001B[0m\u001B[0margs\u001B[0m\u001B[0;34m)\u001B[0m \u001B[0;34m<\u001B[0m \u001B[0;36m2\u001B[0m\u001B[0;34m:\u001B[0m\u001B[0;34m\u001B[0m\u001B[0m\n\u001B[0;32m--> 688\u001B[0;31m             \u001B[0;32mraise\u001B[0m \u001B[0mValueError\u001B[0m\u001B[0;34m(\u001B[0m\u001B[0;34m\"Unable to determine number of fit parameters.\"\u001B[0m\u001B[0;34m)\u001B[0m\u001B[0;34m\u001B[0m\u001B[0m\n\u001B[0m\u001B[1;32m    689\u001B[0m         \u001B[0mn\u001B[0m \u001B[0;34m=\u001B[0m \u001B[0mlen\u001B[0m\u001B[0;34m(\u001B[0m\u001B[0margs\u001B[0m\u001B[0;34m)\u001B[0m \u001B[0;34m-\u001B[0m \u001B[0;36m1\u001B[0m\u001B[0;34m\u001B[0m\u001B[0m\n\u001B[1;32m    690\u001B[0m     \u001B[0;32melse\u001B[0m\u001B[0;34m:\u001B[0m\u001B[0;34m\u001B[0m\u001B[0m\n",
      "\u001B[0;31mValueError\u001B[0m: Unable to determine number of fit parameters."
     ]
    }
   ],
   "source": [
    "c, cov = curve_fit(input_adapter,x_2,y_2)\n",
    "c\n"
   ],
   "metadata": {
    "collapsed": false,
    "pycharm": {
     "name": "#%%\n"
    }
   }
  }
 ],
 "metadata": {
  "kernelspec": {
   "display_name": "Python 3",
   "language": "python",
   "name": "python3"
  },
  "language_info": {
   "codemirror_mode": {
    "name": "ipython",
    "version": 2
   },
   "file_extension": ".py",
   "mimetype": "text/x-python",
   "name": "python",
   "nbconvert_exporter": "python",
   "pygments_lexer": "ipython2",
   "version": "2.7.6"
  }
 },
 "nbformat": 4,
 "nbformat_minor": 0
}