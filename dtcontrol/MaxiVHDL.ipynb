{
 "cells": [
  {
   "cell_type": "code",
   "execution_count": 1,
   "metadata": {},
   "outputs": [],
   "source": [
    "import project_path\n",
    "from benchmark_suite import BenchmarkSuite\n",
    "from dtcontrol.classifiers.linear_classifier_decision_tree import LinearClassifierDecisionTree\n",
    "from dtcontrol.classifiers.cart_custom_decision_tree import CartCustomDecisionTree\n",
    "from dtcontrol.classifiers.max_every_node_decision_tree import MaxCartDecisionTree\n",
    "from dtcontrol.classifiers.max_every_node_lc_decision_tree import MaxLCDecisionTree\n",
    "from dtcontrol.classifiers.oc1_wrapper import OC1Wrapper\n",
    "from dtcontrol.classifiers.max_every_node_multi_decision_tree import MaxEveryNodeMultiDecisionTree\n",
    "from sklearn.linear_model import LogisticRegression\n",
    "from sklearn.svm import LinearSVC\n",
    "from dtcontrol.dataset.multi_output_dataset import MultiOutputDataset\n",
    "from dtcontrol.dataset.single_output_dataset import SingleOutputDataset"
   ]
  },
  {
   "cell_type": "code",
   "execution_count": 2,
   "metadata": {
    "scrolled": true
   },
   "outputs": [
    {
     "name": "stdout",
     "output_type": "stream",
     "text": [
      "Maximum wait time: 04:00:00.000.\n",
      "Loading existing pickled dataset...\n",
      "Done loading.\n",
      "1/2: Evaluated LinearClassifierDT(LogisticRegression) on cartpole in 00:00:07.516.\n",
      "2/2: Evaluated MaxEveryNodeDT on cartpole in 00:00:05.468.\n",
      "Done.\n"
     ]
    }
   ],
   "source": [
    "suite = BenchmarkSuite(timeout=60*60*2, save_folder='saved_classifiers', benchmark_file='benchmark_tmp')\n",
    "suite.add_datasets(['../XYdatasets', '../dumps'],\n",
    "                   include=[\"cartpole\"],\n",
    "                   exclude=[\n",
    "                            ]\n",
    "                   )\n",
    "classifiers = [   #CartCustomDecisionTree(),\n",
    "               LinearClassifierDecisionTree(LogisticRegression, solver='lbfgs', penalty='none'),\n",
    "               #LinearClassifierDecisionTree(LinearSVC, max_iter=5000),\n",
    "    MaxCartDecisionTree(),\n",
    "               #MaxLCDecisionTree(LogisticRegression, solver='lbfgs', penalty='none'),\n",
    "               #OC1Wrapper(num_restarts=20, num_jumps=5),\n",
    "               #MaxEveryNodeMultiDecisionTree()\n",
    "               ]\n",
    "#suite.delete_dataset_results('cruise-latest')\n",
    "suite.benchmark(classifiers)"
   ]
  },
  {
   "cell_type": "code",
   "execution_count": null,
   "metadata": {},
   "outputs": [],
   "source": []
  }
 ],
 "metadata": {
  "kernelspec": {
   "display_name": "Python 3",
   "language": "python",
   "name": "python3"
  },
  "language_info": {
   "codemirror_mode": {
    "name": "ipython",
    "version": 3
   },
   "file_extension": ".py",
   "mimetype": "text/x-python",
   "name": "python",
   "nbconvert_exporter": "python",
   "pygments_lexer": "ipython3",
   "version": "3.7.3"
  },
  "pycharm": {
   "stem_cell": {
    "cell_type": "raw",
    "metadata": {
     "collapsed": false
    },
    "source": []
   }
  }
 },
 "nbformat": 4,
 "nbformat_minor": 1
}
