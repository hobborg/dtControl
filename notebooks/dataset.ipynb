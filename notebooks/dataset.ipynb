{
 "cells": [
  {
   "cell_type": "code",
   "execution_count": 1,
   "metadata": {},
   "outputs": [],
   "source": [
    "%load_ext autoreload\n",
    "%autoreload 2"
   ]
  },
  {
   "cell_type": "code",
   "execution_count": 21,
   "metadata": {},
   "outputs": [],
   "source": [
    "import project_path\n",
    "import numpy as np\n",
    "import pandas as pd\n",
    "from dtcontrol.dataset.multi_output_dataset import MultiOutputDataset\n",
    "from dtcontrol.dataset.single_output_dataset import SingleOutputDataset\n",
    "from dtcontrol.decision_tree.decision_tree import DecisionTree\n",
    "from dtcontrol.decision_tree.determinization.non_determinizer import NonDeterminizer\n",
    "from dtcontrol.decision_tree.impurity.entropy import Entropy\n",
    "from dtcontrol.decision_tree.splitting.axis_aligned import AxisAlignedSplittingStrategy\n",
    "from sklearn.tree import DecisionTreeClassifier\n",
    "from sklearn import tree"
   ]
  },
  {
   "cell_type": "code",
   "execution_count": 3,
   "metadata": {},
   "outputs": [],
   "source": [
    "ds = SingleOutputDataset('../examples/cartpole.scs')\n",
    "ds.load_if_necessary()"
   ]
  },
  {
   "cell_type": "code",
   "execution_count": 4,
   "metadata": {},
   "outputs": [],
   "source": [
    "labels = np.load('/home/mathias/try.npy')"
   ]
  },
  {
   "cell_type": "code",
   "execution_count": 18,
   "metadata": {},
   "outputs": [],
   "source": [
    "dt = DecisionTreeClassifier(criterion='entropy')"
   ]
  },
  {
   "cell_type": "code",
   "execution_count": 19,
   "metadata": {},
   "outputs": [
    {
     "data": {
      "text/plain": [
       "DecisionTreeClassifier(class_weight=None, criterion='entropy', max_depth=None,\n",
       "                       max_features=None, max_leaf_nodes=None,\n",
       "                       min_impurity_decrease=0.0, min_impurity_split=None,\n",
       "                       min_samples_leaf=1, min_samples_split=2,\n",
       "                       min_weight_fraction_leaf=0.0, presort=False,\n",
       "                       random_state=None, splitter='best')"
      ]
     },
     "execution_count": 19,
     "metadata": {},
     "output_type": "execute_result"
    }
   ],
   "source": [
    "dt.fit(ds.x, labels)"
   ]
  },
  {
   "cell_type": "code",
   "execution_count": 20,
   "metadata": {},
   "outputs": [
    {
     "data": {
      "text/plain": [
       "111"
      ]
     },
     "execution_count": 20,
     "metadata": {},
     "output_type": "execute_result"
    }
   ],
   "source": [
    "dt.tree_.node_count"
   ]
  },
  {
   "cell_type": "code",
   "execution_count": 22,
   "metadata": {},
   "outputs": [
    {
     "data": {
      "text/plain": [
       "[Text(160.87792207792208, 205.35999999999999, 'X[1] <= -0.05\\nentropy = 1.306\\nsamples = 271\\nvalue = [1, 1, 1, 1, 1, 1, 1, 1, 1, 1, 233, 1, 1, 1\\n1, 1, 1, 1, 1, 1, 1, 2, 1, 1, 1, 1, 1, 1\\n2, 1, 1, 1, 1, 1, 1, 1, 1]'),\n",
       " Text(88.04805194805195, 181.2, 'X[0] <= 2.92\\nentropy = 1.122\\nsamples = 126\\nvalue = [1, 1, 1, 1, 1, 1, 1, 1, 1, 0, 109, 1, 1, 1\\n1, 1, 1, 1, 1, 0, 0, 0, 0, 0, 0, 0, 0, 0\\n0, 0, 0, 0, 0, 0, 0, 0, 0]'),\n",
       " Text(39.13246753246753, 157.04, 'X[1] <= -0.35\\nentropy = 2.81\\nsamples = 21\\nvalue = [0, 0, 0, 1, 1, 1, 1, 1, 1, 0, 10, 0, 0, 0\\n1, 1, 1, 1, 1, 0, 0, 0, 0, 0, 0, 0, 0, 0\\n0, 0, 0, 0, 0, 0, 0, 0, 0]'),\n",
       " Text(17.392207792207792, 132.88, 'X[1] <= -0.45\\nentropy = 2.585\\nsamples = 6\\nvalue = [0, 0, 0, 1, 1, 1, 0, 0, 0, 0, 1, 0, 0, 0\\n1, 1, 0, 0, 0, 0, 0, 0, 0, 0, 0, 0, 0, 0\\n0, 0, 0, 0, 0, 0, 0, 0, 0]'),\n",
       " Text(8.696103896103896, 108.72, 'X[1] <= -0.55\\nentropy = 1.585\\nsamples = 3\\nvalue = [0, 0, 0, 1, 1, 0, 0, 0, 0, 0, 0, 0, 0, 0\\n1, 0, 0, 0, 0, 0, 0, 0, 0, 0, 0, 0, 0, 0\\n0, 0, 0, 0, 0, 0, 0, 0, 0]'),\n",
       " Text(4.348051948051948, 84.56, 'entropy = 0.0\\nsamples = 1\\nvalue = [0, 0, 0, 1, 0, 0, 0, 0, 0, 0, 0, 0, 0, 0\\n0, 0, 0, 0, 0, 0, 0, 0, 0, 0, 0, 0, 0, 0\\n0, 0, 0, 0, 0, 0, 0, 0, 0]'),\n",
       " Text(13.044155844155844, 84.56, 'X[0] <= 2.84\\nentropy = 1.0\\nsamples = 2\\nvalue = [0, 0, 0, 0, 1, 0, 0, 0, 0, 0, 0, 0, 0, 0\\n1, 0, 0, 0, 0, 0, 0, 0, 0, 0, 0, 0, 0, 0\\n0, 0, 0, 0, 0, 0, 0, 0, 0]'),\n",
       " Text(8.696103896103896, 60.400000000000006, 'entropy = 0.0\\nsamples = 1\\nvalue = [0, 0, 0, 0, 1, 0, 0, 0, 0, 0, 0, 0, 0, 0\\n0, 0, 0, 0, 0, 0, 0, 0, 0, 0, 0, 0, 0, 0\\n0, 0, 0, 0, 0, 0, 0, 0, 0]'),\n",
       " Text(17.392207792207792, 60.400000000000006, 'entropy = 0.0\\nsamples = 1\\nvalue = [0, 0, 0, 0, 0, 0, 0, 0, 0, 0, 0, 0, 0, 0\\n1, 0, 0, 0, 0, 0, 0, 0, 0, 0, 0, 0, 0, 0\\n0, 0, 0, 0, 0, 0, 0, 0, 0]'),\n",
       " Text(26.088311688311688, 108.72, 'X[0] <= 2.76\\nentropy = 1.585\\nsamples = 3\\nvalue = [0, 0, 0, 0, 0, 1, 0, 0, 0, 0, 1, 0, 0, 0\\n0, 1, 0, 0, 0, 0, 0, 0, 0, 0, 0, 0, 0, 0\\n0, 0, 0, 0, 0, 0, 0, 0, 0]'),\n",
       " Text(21.740259740259738, 84.56, 'entropy = 0.0\\nsamples = 1\\nvalue = [0, 0, 0, 0, 0, 1, 0, 0, 0, 0, 0, 0, 0, 0\\n0, 0, 0, 0, 0, 0, 0, 0, 0, 0, 0, 0, 0, 0\\n0, 0, 0, 0, 0, 0, 0, 0, 0]'),\n",
       " Text(30.436363636363637, 84.56, 'X[0] <= 2.84\\nentropy = 1.0\\nsamples = 2\\nvalue = [0, 0, 0, 0, 0, 0, 0, 0, 0, 0, 1, 0, 0, 0\\n0, 1, 0, 0, 0, 0, 0, 0, 0, 0, 0, 0, 0, 0\\n0, 0, 0, 0, 0, 0, 0, 0, 0]'),\n",
       " Text(26.088311688311688, 60.400000000000006, 'entropy = 0.0\\nsamples = 1\\nvalue = [0, 0, 0, 0, 0, 0, 0, 0, 0, 0, 0, 0, 0, 0\\n0, 1, 0, 0, 0, 0, 0, 0, 0, 0, 0, 0, 0, 0\\n0, 0, 0, 0, 0, 0, 0, 0, 0]'),\n",
       " Text(34.784415584415584, 60.400000000000006, 'entropy = 0.0\\nsamples = 1\\nvalue = [0, 0, 0, 0, 0, 0, 0, 0, 0, 0, 1, 0, 0, 0\\n0, 0, 0, 0, 0, 0, 0, 0, 0, 0, 0, 0, 0, 0\\n0, 0, 0, 0, 0, 0, 0, 0, 0]'),\n",
       " Text(60.872727272727275, 132.88, 'X[0] <= 2.6\\nentropy = 2.005\\nsamples = 15\\nvalue = [0, 0, 0, 0, 0, 0, 1, 1, 1, 0, 9, 0, 0, 0\\n0, 0, 1, 1, 1, 0, 0, 0, 0, 0, 0, 0, 0, 0\\n0, 0, 0, 0, 0, 0, 0, 0, 0]'),\n",
       " Text(43.480519480519476, 108.72, 'X[1] <= -0.15\\nentropy = 1.585\\nsamples = 3\\nvalue = [0, 0, 0, 0, 0, 0, 0, 1, 1, 0, 0, 0, 0, 0\\n0, 0, 0, 0, 1, 0, 0, 0, 0, 0, 0, 0, 0, 0\\n0, 0, 0, 0, 0, 0, 0, 0, 0]'),\n",
       " Text(39.13246753246753, 84.56, 'entropy = 0.0\\nsamples = 1\\nvalue = [0, 0, 0, 0, 0, 0, 0, 1, 0, 0, 0, 0, 0, 0\\n0, 0, 0, 0, 0, 0, 0, 0, 0, 0, 0, 0, 0, 0\\n0, 0, 0, 0, 0, 0, 0, 0, 0]'),\n",
       " Text(47.82857142857143, 84.56, 'X[0] <= 2.52\\nentropy = 1.0\\nsamples = 2\\nvalue = [0, 0, 0, 0, 0, 0, 0, 0, 1, 0, 0, 0, 0, 0\\n0, 0, 0, 0, 1, 0, 0, 0, 0, 0, 0, 0, 0, 0\\n0, 0, 0, 0, 0, 0, 0, 0, 0]'),\n",
       " Text(43.480519480519476, 60.400000000000006, 'entropy = 0.0\\nsamples = 1\\nvalue = [0, 0, 0, 0, 0, 0, 0, 0, 1, 0, 0, 0, 0, 0\\n0, 0, 0, 0, 0, 0, 0, 0, 0, 0, 0, 0, 0, 0\\n0, 0, 0, 0, 0, 0, 0, 0, 0]'),\n",
       " Text(52.176623376623375, 60.400000000000006, 'entropy = 0.0\\nsamples = 1\\nvalue = [0, 0, 0, 0, 0, 0, 0, 0, 0, 0, 0, 0, 0, 0\\n0, 0, 0, 0, 1, 0, 0, 0, 0, 0, 0, 0, 0, 0\\n0, 0, 0, 0, 0, 0, 0, 0, 0]'),\n",
       " Text(78.26493506493506, 108.72, 'X[0] <= 2.68\\nentropy = 1.208\\nsamples = 12\\nvalue = [0, 0, 0, 0, 0, 0, 1, 0, 0, 0, 9, 0, 0, 0\\n0, 0, 1, 1, 0, 0, 0, 0, 0, 0, 0, 0, 0, 0\\n0, 0, 0, 0, 0, 0, 0, 0, 0]'),\n",
       " Text(65.22077922077922, 84.56, 'X[1] <= -0.25\\nentropy = 1.585\\nsamples = 3\\nvalue = [0, 0, 0, 0, 0, 0, 1, 0, 0, 0, 1, 0, 0, 0\\n0, 0, 0, 1, 0, 0, 0, 0, 0, 0, 0, 0, 0, 0\\n0, 0, 0, 0, 0, 0, 0, 0, 0]'),\n",
       " Text(60.872727272727275, 60.400000000000006, 'entropy = 0.0\\nsamples = 1\\nvalue = [0, 0, 0, 0, 0, 0, 1, 0, 0, 0, 0, 0, 0, 0\\n0, 0, 0, 0, 0, 0, 0, 0, 0, 0, 0, 0, 0, 0\\n0, 0, 0, 0, 0, 0, 0, 0, 0]'),\n",
       " Text(69.56883116883117, 60.400000000000006, 'X[1] <= -0.15\\nentropy = 1.0\\nsamples = 2\\nvalue = [0, 0, 0, 0, 0, 0, 0, 0, 0, 0, 1, 0, 0, 0\\n0, 0, 0, 1, 0, 0, 0, 0, 0, 0, 0, 0, 0, 0\\n0, 0, 0, 0, 0, 0, 0, 0, 0]'),\n",
       " Text(65.22077922077922, 36.24000000000001, 'entropy = 0.0\\nsamples = 1\\nvalue = [0, 0, 0, 0, 0, 0, 0, 0, 0, 0, 0, 0, 0, 0\\n0, 0, 0, 1, 0, 0, 0, 0, 0, 0, 0, 0, 0, 0\\n0, 0, 0, 0, 0, 0, 0, 0, 0]'),\n",
       " Text(73.91688311688311, 36.24000000000001, 'entropy = 0.0\\nsamples = 1\\nvalue = [0, 0, 0, 0, 0, 0, 0, 0, 0, 0, 1, 0, 0, 0\\n0, 0, 0, 0, 0, 0, 0, 0, 0, 0, 0, 0, 0, 0\\n0, 0, 0, 0, 0, 0, 0, 0, 0]'),\n",
       " Text(91.30909090909091, 84.56, 'X[1] <= -0.25\\nentropy = 0.503\\nsamples = 9\\nvalue = [0, 0, 0, 0, 0, 0, 0, 0, 0, 0, 8, 0, 0, 0\\n0, 0, 1, 0, 0, 0, 0, 0, 0, 0, 0, 0, 0, 0\\n0, 0, 0, 0, 0, 0, 0, 0, 0]'),\n",
       " Text(86.96103896103895, 60.400000000000006, 'X[0] <= 2.76\\nentropy = 0.918\\nsamples = 3\\nvalue = [0, 0, 0, 0, 0, 0, 0, 0, 0, 0, 2, 0, 0, 0\\n0, 0, 1, 0, 0, 0, 0, 0, 0, 0, 0, 0, 0, 0\\n0, 0, 0, 0, 0, 0, 0, 0, 0]'),\n",
       " Text(82.612987012987, 36.24000000000001, 'entropy = 0.0\\nsamples = 1\\nvalue = [0, 0, 0, 0, 0, 0, 0, 0, 0, 0, 0, 0, 0, 0\\n0, 0, 1, 0, 0, 0, 0, 0, 0, 0, 0, 0, 0, 0\\n0, 0, 0, 0, 0, 0, 0, 0, 0]'),\n",
       " Text(91.30909090909091, 36.24000000000001, 'entropy = 0.0\\nsamples = 2\\nvalue = [0, 0, 0, 0, 0, 0, 0, 0, 0, 0, 2, 0, 0, 0\\n0, 0, 0, 0, 0, 0, 0, 0, 0, 0, 0, 0, 0, 0\\n0, 0, 0, 0, 0, 0, 0, 0, 0]'),\n",
       " Text(95.65714285714286, 60.400000000000006, 'entropy = 0.0\\nsamples = 6\\nvalue = [0, 0, 0, 0, 0, 0, 0, 0, 0, 0, 6, 0, 0, 0\\n0, 0, 0, 0, 0, 0, 0, 0, 0, 0, 0, 0, 0, 0\\n0, 0, 0, 0, 0, 0, 0, 0, 0]'),\n",
       " Text(136.96363636363637, 157.04, 'X[0] <= 3.16\\nentropy = 0.464\\nsamples = 105\\nvalue = [1, 1, 1, 0, 0, 0, 0, 0, 0, 0, 99, 1, 1, 1\\n0, 0, 0, 0, 0, 0, 0, 0, 0, 0, 0, 0, 0, 0\\n0, 0, 0, 0, 0, 0, 0, 0, 0]'),\n",
       " Text(132.6155844155844, 132.88, 'X[1] <= -0.65\\nentropy = 1.458\\nsamples = 24\\nvalue = [1, 1, 1, 0, 0, 0, 0, 0, 0, 0, 18, 1, 1, 1\\n0, 0, 0, 0, 0, 0, 0, 0, 0, 0, 0, 0, 0, 0\\n0, 0, 0, 0, 0, 0, 0, 0, 0]'),\n",
       " Text(117.39740259740259, 108.72, 'X[0] <= 3.08\\nentropy = 2.585\\nsamples = 6\\nvalue = [1, 1, 1, 0, 0, 0, 0, 0, 0, 0, 1, 1, 1, 0\\n0, 0, 0, 0, 0, 0, 0, 0, 0, 0, 0, 0, 0, 0\\n0, 0, 0, 0, 0, 0, 0, 0, 0]'),\n",
       " Text(108.7012987012987, 84.56, 'X[0] <= 3.0\\nentropy = 1.585\\nsamples = 3\\nvalue = [0, 1, 1, 0, 0, 0, 0, 0, 0, 0, 0, 0, 1, 0\\n0, 0, 0, 0, 0, 0, 0, 0, 0, 0, 0, 0, 0, 0\\n0, 0, 0, 0, 0, 0, 0, 0, 0]'),\n",
       " Text(104.35324675324675, 60.400000000000006, 'entropy = 0.0\\nsamples = 1\\nvalue = [0, 0, 1, 0, 0, 0, 0, 0, 0, 0, 0, 0, 0, 0\\n0, 0, 0, 0, 0, 0, 0, 0, 0, 0, 0, 0, 0, 0\\n0, 0, 0, 0, 0, 0, 0, 0, 0]'),\n",
       " Text(113.04935064935064, 60.400000000000006, 'X[1] <= -0.75\\nentropy = 1.0\\nsamples = 2\\nvalue = [0, 1, 0, 0, 0, 0, 0, 0, 0, 0, 0, 0, 1, 0\\n0, 0, 0, 0, 0, 0, 0, 0, 0, 0, 0, 0, 0, 0\\n0, 0, 0, 0, 0, 0, 0, 0, 0]'),\n",
       " Text(108.7012987012987, 36.24000000000001, 'entropy = 0.0\\nsamples = 1\\nvalue = [0, 1, 0, 0, 0, 0, 0, 0, 0, 0, 0, 0, 0, 0\\n0, 0, 0, 0, 0, 0, 0, 0, 0, 0, 0, 0, 0, 0\\n0, 0, 0, 0, 0, 0, 0, 0, 0]'),\n",
       " Text(117.39740259740259, 36.24000000000001, 'entropy = 0.0\\nsamples = 1\\nvalue = [0, 0, 0, 0, 0, 0, 0, 0, 0, 0, 0, 0, 1, 0\\n0, 0, 0, 0, 0, 0, 0, 0, 0, 0, 0, 0, 0, 0\\n0, 0, 0, 0, 0, 0, 0, 0, 0]'),\n",
       " Text(126.0935064935065, 84.56, 'X[1] <= -0.85\\nentropy = 1.585\\nsamples = 3\\nvalue = [1, 0, 0, 0, 0, 0, 0, 0, 0, 0, 1, 1, 0, 0\\n0, 0, 0, 0, 0, 0, 0, 0, 0, 0, 0, 0, 0, 0\\n0, 0, 0, 0, 0, 0, 0, 0, 0]'),\n",
       " Text(121.74545454545455, 60.400000000000006, 'entropy = 0.0\\nsamples = 1\\nvalue = [1, 0, 0, 0, 0, 0, 0, 0, 0, 0, 0, 0, 0, 0\\n0, 0, 0, 0, 0, 0, 0, 0, 0, 0, 0, 0, 0, 0\\n0, 0, 0, 0, 0, 0, 0, 0, 0]'),\n",
       " Text(130.44155844155844, 60.400000000000006, 'X[1] <= -0.75\\nentropy = 1.0\\nsamples = 2\\nvalue = [0, 0, 0, 0, 0, 0, 0, 0, 0, 0, 1, 1, 0, 0\\n0, 0, 0, 0, 0, 0, 0, 0, 0, 0, 0, 0, 0, 0\\n0, 0, 0, 0, 0, 0, 0, 0, 0]'),\n",
       " Text(126.0935064935065, 36.24000000000001, 'entropy = 0.0\\nsamples = 1\\nvalue = [0, 0, 0, 0, 0, 0, 0, 0, 0, 0, 0, 1, 0, 0\\n0, 0, 0, 0, 0, 0, 0, 0, 0, 0, 0, 0, 0, 0\\n0, 0, 0, 0, 0, 0, 0, 0, 0]'),\n",
       " Text(134.78961038961037, 36.24000000000001, 'entropy = 0.0\\nsamples = 1\\nvalue = [0, 0, 0, 0, 0, 0, 0, 0, 0, 0, 1, 0, 0, 0\\n0, 0, 0, 0, 0, 0, 0, 0, 0, 0, 0, 0, 0, 0\\n0, 0, 0, 0, 0, 0, 0, 0, 0]'),\n",
       " Text(147.83376623376623, 108.72, 'X[1] <= -0.55\\nentropy = 0.31\\nsamples = 18\\nvalue = [0, 0, 0, 0, 0, 0, 0, 0, 0, 0, 17, 0, 0, 1\\n0, 0, 0, 0, 0, 0, 0, 0, 0, 0, 0, 0, 0, 0\\n0, 0, 0, 0, 0, 0, 0, 0, 0]'),\n",
       " Text(143.4857142857143, 84.56, 'X[0] <= 3.0\\nentropy = 0.918\\nsamples = 3\\nvalue = [0, 0, 0, 0, 0, 0, 0, 0, 0, 0, 2, 0, 0, 1\\n0, 0, 0, 0, 0, 0, 0, 0, 0, 0, 0, 0, 0, 0\\n0, 0, 0, 0, 0, 0, 0, 0, 0]'),\n",
       " Text(139.13766233766233, 60.400000000000006, 'entropy = 0.0\\nsamples = 1\\nvalue = [0, 0, 0, 0, 0, 0, 0, 0, 0, 0, 0, 0, 0, 1\\n0, 0, 0, 0, 0, 0, 0, 0, 0, 0, 0, 0, 0, 0\\n0, 0, 0, 0, 0, 0, 0, 0, 0]'),\n",
       " Text(147.83376623376623, 60.400000000000006, 'entropy = 0.0\\nsamples = 2\\nvalue = [0, 0, 0, 0, 0, 0, 0, 0, 0, 0, 2, 0, 0, 0\\n0, 0, 0, 0, 0, 0, 0, 0, 0, 0, 0, 0, 0, 0\\n0, 0, 0, 0, 0, 0, 0, 0, 0]'),\n",
       " Text(152.1818181818182, 84.56, 'entropy = 0.0\\nsamples = 15\\nvalue = [0, 0, 0, 0, 0, 0, 0, 0, 0, 0, 15, 0, 0, 0\\n0, 0, 0, 0, 0, 0, 0, 0, 0, 0, 0, 0, 0, 0\\n0, 0, 0, 0, 0, 0, 0, 0, 0]'),\n",
       " Text(141.3116883116883, 132.88, 'entropy = 0.0\\nsamples = 81\\nvalue = [0, 0, 0, 0, 0, 0, 0, 0, 0, 0, 81, 0, 0, 0\\n0, 0, 0, 0, 0, 0, 0, 0, 0, 0, 0, 0, 0, 0\\n0, 0, 0, 0, 0, 0, 0, 0, 0]'),\n",
       " Text(233.7077922077922, 181.2, 'X[0] <= 3.32\\nentropy = 1.205\\nsamples = 145\\nvalue = [0, 0, 0, 0, 0, 0, 0, 0, 0, 1, 124, 0, 0, 0\\n0, 0, 0, 0, 0, 1, 1, 2, 1, 1, 1, 1, 1, 1\\n2, 1, 1, 1, 1, 1, 1, 1, 1]'),\n",
       " Text(183.7051948051948, 157.04, 'X[0] <= 3.08\\nentropy = 0.531\\nsamples = 117\\nvalue = [0, 0, 0, 0, 0, 0, 0, 0, 0, 1, 109, 0, 0, 0\\n0, 0, 0, 0, 0, 1, 1, 2, 0, 0, 0, 0, 0, 0\\n2, 0, 1, 0, 0, 0, 0, 0, 0]'),\n",
       " Text(169.57402597402597, 132.88, 'X[1] <= 0.05\\nentropy = 0.176\\nsamples = 90\\nvalue = [0, 0, 0, 0, 0, 0, 0, 0, 0, 1, 88, 0, 0, 0\\n0, 0, 0, 0, 0, 1, 0, 0, 0, 0, 0, 0, 0, 0\\n0, 0, 0, 0, 0, 0, 0, 0, 0]'),\n",
       " Text(165.225974025974, 108.72, 'X[0] <= 2.52\\nentropy = 0.986\\nsamples = 9\\nvalue = [0, 0, 0, 0, 0, 0, 0, 0, 0, 1, 7, 0, 0, 0\\n0, 0, 0, 0, 0, 1, 0, 0, 0, 0, 0, 0, 0, 0\\n0, 0, 0, 0, 0, 0, 0, 0, 0]'),\n",
       " Text(160.87792207792208, 84.56, 'X[0] <= 2.44\\nentropy = 1.0\\nsamples = 2\\nvalue = [0, 0, 0, 0, 0, 0, 0, 0, 0, 1, 0, 0, 0, 0\\n0, 0, 0, 0, 0, 1, 0, 0, 0, 0, 0, 0, 0, 0\\n0, 0, 0, 0, 0, 0, 0, 0, 0]'),\n",
       " Text(156.52987012987012, 60.400000000000006, 'entropy = 0.0\\nsamples = 1\\nvalue = [0, 0, 0, 0, 0, 0, 0, 0, 0, 1, 0, 0, 0, 0\\n0, 0, 0, 0, 0, 0, 0, 0, 0, 0, 0, 0, 0, 0\\n0, 0, 0, 0, 0, 0, 0, 0, 0]'),\n",
       " Text(165.225974025974, 60.400000000000006, 'entropy = 0.0\\nsamples = 1\\nvalue = [0, 0, 0, 0, 0, 0, 0, 0, 0, 0, 0, 0, 0, 0\\n0, 0, 0, 0, 0, 1, 0, 0, 0, 0, 0, 0, 0, 0\\n0, 0, 0, 0, 0, 0, 0, 0, 0]'),\n",
       " Text(169.57402597402597, 84.56, 'entropy = 0.0\\nsamples = 7\\nvalue = [0, 0, 0, 0, 0, 0, 0, 0, 0, 0, 7, 0, 0, 0\\n0, 0, 0, 0, 0, 0, 0, 0, 0, 0, 0, 0, 0, 0\\n0, 0, 0, 0, 0, 0, 0, 0, 0]'),\n",
       " Text(173.9220779220779, 108.72, 'entropy = 0.0\\nsamples = 81\\nvalue = [0, 0, 0, 0, 0, 0, 0, 0, 0, 0, 81, 0, 0, 0\\n0, 0, 0, 0, 0, 0, 0, 0, 0, 0, 0, 0, 0, 0\\n0, 0, 0, 0, 0, 0, 0, 0, 0]'),\n",
       " Text(197.83636363636364, 132.88, 'X[1] <= 0.75\\nentropy = 1.19\\nsamples = 27\\nvalue = [0, 0, 0, 0, 0, 0, 0, 0, 0, 0, 21, 0, 0, 0\\n0, 0, 0, 0, 0, 0, 1, 2, 0, 0, 0, 0, 0, 0\\n2, 0, 1, 0, 0, 0, 0, 0, 0]'),\n",
       " Text(182.61818181818182, 108.72, 'X[1] <= 0.55\\nentropy = 0.658\\nsamples = 24\\nvalue = [0, 0, 0, 0, 0, 0, 0, 0, 0, 0, 21, 0, 0, 0\\n0, 0, 0, 0, 0, 0, 0, 2, 0, 0, 0, 0, 0, 0\\n0, 0, 1, 0, 0, 0, 0, 0, 0]'),\n",
       " Text(178.27012987012986, 84.56, 'entropy = 0.0\\nsamples = 18\\nvalue = [0, 0, 0, 0, 0, 0, 0, 0, 0, 0, 18, 0, 0, 0\\n0, 0, 0, 0, 0, 0, 0, 0, 0, 0, 0, 0, 0, 0\\n0, 0, 0, 0, 0, 0, 0, 0, 0]'),\n",
       " Text(186.96623376623376, 84.56, 'X[0] <= 3.24\\nentropy = 1.459\\nsamples = 6\\nvalue = [0, 0, 0, 0, 0, 0, 0, 0, 0, 0, 3, 0, 0, 0\\n0, 0, 0, 0, 0, 0, 0, 2, 0, 0, 0, 0, 0, 0\\n0, 0, 1, 0, 0, 0, 0, 0, 0]'),\n",
       " Text(178.27012987012986, 60.400000000000006, 'X[0] <= 3.16\\nentropy = 0.811\\nsamples = 4\\nvalue = [0, 0, 0, 0, 0, 0, 0, 0, 0, 0, 3, 0, 0, 0\\n0, 0, 0, 0, 0, 0, 0, 1, 0, 0, 0, 0, 0, 0\\n0, 0, 0, 0, 0, 0, 0, 0, 0]'),\n",
       " Text(173.9220779220779, 36.24000000000001, 'entropy = 0.0\\nsamples = 2\\nvalue = [0, 0, 0, 0, 0, 0, 0, 0, 0, 0, 2, 0, 0, 0\\n0, 0, 0, 0, 0, 0, 0, 0, 0, 0, 0, 0, 0, 0\\n0, 0, 0, 0, 0, 0, 0, 0, 0]'),\n",
       " Text(182.61818181818182, 36.24000000000001, 'X[1] <= 0.65\\nentropy = 1.0\\nsamples = 2\\nvalue = [0, 0, 0, 0, 0, 0, 0, 0, 0, 0, 1, 0, 0, 0\\n0, 0, 0, 0, 0, 0, 0, 1, 0, 0, 0, 0, 0, 0\\n0, 0, 0, 0, 0, 0, 0, 0, 0]'),\n",
       " Text(178.27012987012986, 12.079999999999984, 'entropy = 0.0\\nsamples = 1\\nvalue = [0, 0, 0, 0, 0, 0, 0, 0, 0, 0, 1, 0, 0, 0\\n0, 0, 0, 0, 0, 0, 0, 0, 0, 0, 0, 0, 0, 0\\n0, 0, 0, 0, 0, 0, 0, 0, 0]'),\n",
       " Text(186.96623376623376, 12.079999999999984, 'entropy = 0.0\\nsamples = 1\\nvalue = [0, 0, 0, 0, 0, 0, 0, 0, 0, 0, 0, 0, 0, 0\\n0, 0, 0, 0, 0, 0, 0, 1, 0, 0, 0, 0, 0, 0\\n0, 0, 0, 0, 0, 0, 0, 0, 0]'),\n",
       " Text(195.66233766233765, 60.400000000000006, 'X[1] <= 0.65\\nentropy = 1.0\\nsamples = 2\\nvalue = [0, 0, 0, 0, 0, 0, 0, 0, 0, 0, 0, 0, 0, 0\\n0, 0, 0, 0, 0, 0, 0, 1, 0, 0, 0, 0, 0, 0\\n0, 0, 1, 0, 0, 0, 0, 0, 0]'),\n",
       " Text(191.31428571428572, 36.24000000000001, 'entropy = 0.0\\nsamples = 1\\nvalue = [0, 0, 0, 0, 0, 0, 0, 0, 0, 0, 0, 0, 0, 0\\n0, 0, 0, 0, 0, 0, 0, 1, 0, 0, 0, 0, 0, 0\\n0, 0, 0, 0, 0, 0, 0, 0, 0]'),\n",
       " Text(200.0103896103896, 36.24000000000001, 'entropy = 0.0\\nsamples = 1\\nvalue = [0, 0, 0, 0, 0, 0, 0, 0, 0, 0, 0, 0, 0, 0\\n0, 0, 0, 0, 0, 0, 0, 0, 0, 0, 0, 0, 0, 0\\n0, 0, 1, 0, 0, 0, 0, 0, 0]'),\n",
       " Text(213.05454545454546, 108.72, 'X[1] <= 0.85\\nentropy = 0.918\\nsamples = 3\\nvalue = [0, 0, 0, 0, 0, 0, 0, 0, 0, 0, 0, 0, 0, 0\\n0, 0, 0, 0, 0, 0, 1, 0, 0, 0, 0, 0, 0, 0\\n2, 0, 0, 0, 0, 0, 0, 0, 0]'),\n",
       " Text(208.7064935064935, 84.56, 'X[0] <= 3.16\\nentropy = 1.0\\nsamples = 2\\nvalue = [0, 0, 0, 0, 0, 0, 0, 0, 0, 0, 0, 0, 0, 0\\n0, 0, 0, 0, 0, 0, 1, 0, 0, 0, 0, 0, 0, 0\\n1, 0, 0, 0, 0, 0, 0, 0, 0]'),\n",
       " Text(204.35844155844154, 60.400000000000006, 'entropy = 0.0\\nsamples = 1\\nvalue = [0, 0, 0, 0, 0, 0, 0, 0, 0, 0, 0, 0, 0, 0\\n0, 0, 0, 0, 0, 0, 1, 0, 0, 0, 0, 0, 0, 0\\n0, 0, 0, 0, 0, 0, 0, 0, 0]'),\n",
       " Text(213.05454545454546, 60.400000000000006, 'entropy = 0.0\\nsamples = 1\\nvalue = [0, 0, 0, 0, 0, 0, 0, 0, 0, 0, 0, 0, 0, 0\\n0, 0, 0, 0, 0, 0, 0, 0, 0, 0, 0, 0, 0, 0\\n1, 0, 0, 0, 0, 0, 0, 0, 0]'),\n",
       " Text(217.4025974025974, 84.56, 'entropy = 0.0\\nsamples = 1\\nvalue = [0, 0, 0, 0, 0, 0, 0, 0, 0, 0, 0, 0, 0, 0\\n0, 0, 0, 0, 0, 0, 0, 0, 0, 0, 0, 0, 0, 0\\n1, 0, 0, 0, 0, 0, 0, 0, 0]'),\n",
       " Text(283.7103896103896, 157.04, 'X[0] <= 3.64\\nentropy = 2.714\\nsamples = 28\\nvalue = [0, 0, 0, 0, 0, 0, 0, 0, 0, 0, 15, 0, 0, 0\\n0, 0, 0, 0, 0, 0, 0, 0, 1, 1, 1, 1, 1, 1\\n0, 1, 0, 1, 1, 1, 1, 1, 1]'),\n",
       " Text(254.36103896103896, 132.88, 'X[1] <= 0.35\\nentropy = 2.037\\nsamples = 22\\nvalue = [0, 0, 0, 0, 0, 0, 0, 0, 0, 0, 14, 0, 0, 0\\n0, 0, 0, 0, 0, 0, 0, 0, 1, 1, 1, 1, 0, 0\\n0, 1, 0, 1, 1, 1, 0, 0, 0]'),\n",
       " Text(234.79480519480518, 108.72, 'X[0] <= 3.56\\nentropy = 0.993\\nsamples = 16\\nvalue = [0, 0, 0, 0, 0, 0, 0, 0, 0, 0, 13, 0, 0, 0\\n0, 0, 0, 0, 0, 0, 0, 0, 0, 0, 1, 1, 0, 0\\n0, 0, 0, 0, 0, 1, 0, 0, 0]'),\n",
       " Text(226.0987012987013, 84.56, 'X[1] <= 0.25\\nentropy = 0.414\\nsamples = 12\\nvalue = [0, 0, 0, 0, 0, 0, 0, 0, 0, 0, 11, 0, 0, 0\\n0, 0, 0, 0, 0, 0, 0, 0, 0, 0, 1, 0, 0, 0\\n0, 0, 0, 0, 0, 0, 0, 0, 0]'),\n",
       " Text(221.75064935064935, 60.400000000000006, 'entropy = 0.0\\nsamples = 9\\nvalue = [0, 0, 0, 0, 0, 0, 0, 0, 0, 0, 9, 0, 0, 0\\n0, 0, 0, 0, 0, 0, 0, 0, 0, 0, 0, 0, 0, 0\\n0, 0, 0, 0, 0, 0, 0, 0, 0]'),\n",
       " Text(230.44675324675325, 60.400000000000006, 'X[0] <= 3.48\\nentropy = 0.918\\nsamples = 3\\nvalue = [0, 0, 0, 0, 0, 0, 0, 0, 0, 0, 2, 0, 0, 0\\n0, 0, 0, 0, 0, 0, 0, 0, 0, 0, 1, 0, 0, 0\\n0, 0, 0, 0, 0, 0, 0, 0, 0]'),\n",
       " Text(226.0987012987013, 36.24000000000001, 'entropy = 0.0\\nsamples = 2\\nvalue = [0, 0, 0, 0, 0, 0, 0, 0, 0, 0, 2, 0, 0, 0\\n0, 0, 0, 0, 0, 0, 0, 0, 0, 0, 0, 0, 0, 0\\n0, 0, 0, 0, 0, 0, 0, 0, 0]'),\n",
       " Text(234.79480519480518, 36.24000000000001, 'entropy = 0.0\\nsamples = 1\\nvalue = [0, 0, 0, 0, 0, 0, 0, 0, 0, 0, 0, 0, 0, 0\\n0, 0, 0, 0, 0, 0, 0, 0, 0, 0, 1, 0, 0, 0\\n0, 0, 0, 0, 0, 0, 0, 0, 0]'),\n",
       " Text(243.4909090909091, 84.56, 'X[1] <= 0.15\\nentropy = 1.5\\nsamples = 4\\nvalue = [0, 0, 0, 0, 0, 0, 0, 0, 0, 0, 2, 0, 0, 0\\n0, 0, 0, 0, 0, 0, 0, 0, 0, 0, 0, 1, 0, 0\\n0, 0, 0, 0, 0, 1, 0, 0, 0]'),\n",
       " Text(239.14285714285714, 60.400000000000006, 'entropy = 0.0\\nsamples = 2\\nvalue = [0, 0, 0, 0, 0, 0, 0, 0, 0, 0, 2, 0, 0, 0\\n0, 0, 0, 0, 0, 0, 0, 0, 0, 0, 0, 0, 0, 0\\n0, 0, 0, 0, 0, 0, 0, 0, 0]'),\n",
       " Text(247.83896103896103, 60.400000000000006, 'X[1] <= 0.25\\nentropy = 1.0\\nsamples = 2\\nvalue = [0, 0, 0, 0, 0, 0, 0, 0, 0, 0, 0, 0, 0, 0\\n0, 0, 0, 0, 0, 0, 0, 0, 0, 0, 0, 1, 0, 0\\n0, 0, 0, 0, 0, 1, 0, 0, 0]'),\n",
       " Text(243.4909090909091, 36.24000000000001, 'entropy = 0.0\\nsamples = 1\\nvalue = [0, 0, 0, 0, 0, 0, 0, 0, 0, 0, 0, 0, 0, 0\\n0, 0, 0, 0, 0, 0, 0, 0, 0, 0, 0, 1, 0, 0\\n0, 0, 0, 0, 0, 0, 0, 0, 0]'),\n",
       " Text(252.187012987013, 36.24000000000001, 'entropy = 0.0\\nsamples = 1\\nvalue = [0, 0, 0, 0, 0, 0, 0, 0, 0, 0, 0, 0, 0, 0\\n0, 0, 0, 0, 0, 0, 0, 0, 0, 0, 0, 0, 0, 0\\n0, 0, 0, 0, 0, 1, 0, 0, 0]'),\n",
       " Text(273.92727272727274, 108.72, 'X[1] <= 0.45\\nentropy = 2.585\\nsamples = 6\\nvalue = [0, 0, 0, 0, 0, 0, 0, 0, 0, 0, 1, 0, 0, 0\\n0, 0, 0, 0, 0, 0, 0, 0, 1, 1, 0, 0, 0, 0\\n0, 1, 0, 1, 1, 0, 0, 0, 0]'),\n",
       " Text(260.8831168831169, 84.56, 'X[0] <= 3.4\\nentropy = 1.585\\nsamples = 3\\nvalue = [0, 0, 0, 0, 0, 0, 0, 0, 0, 0, 1, 0, 0, 0\\n0, 0, 0, 0, 0, 0, 0, 0, 0, 1, 0, 0, 0, 0\\n0, 0, 0, 0, 1, 0, 0, 0, 0]'),\n",
       " Text(256.53506493506495, 60.400000000000006, 'entropy = 0.0\\nsamples = 1\\nvalue = [0, 0, 0, 0, 0, 0, 0, 0, 0, 0, 1, 0, 0, 0\\n0, 0, 0, 0, 0, 0, 0, 0, 0, 0, 0, 0, 0, 0\\n0, 0, 0, 0, 0, 0, 0, 0, 0]'),\n",
       " Text(265.2311688311688, 60.400000000000006, 'X[0] <= 3.48\\nentropy = 1.0\\nsamples = 2\\nvalue = [0, 0, 0, 0, 0, 0, 0, 0, 0, 0, 0, 0, 0, 0\\n0, 0, 0, 0, 0, 0, 0, 0, 0, 1, 0, 0, 0, 0\\n0, 0, 0, 0, 1, 0, 0, 0, 0]'),\n",
       " Text(260.8831168831169, 36.24000000000001, 'entropy = 0.0\\nsamples = 1\\nvalue = [0, 0, 0, 0, 0, 0, 0, 0, 0, 0, 0, 0, 0, 0\\n0, 0, 0, 0, 0, 0, 0, 0, 0, 1, 0, 0, 0, 0\\n0, 0, 0, 0, 0, 0, 0, 0, 0]'),\n",
       " Text(269.57922077922075, 36.24000000000001, 'entropy = 0.0\\nsamples = 1\\nvalue = [0, 0, 0, 0, 0, 0, 0, 0, 0, 0, 0, 0, 0, 0\\n0, 0, 0, 0, 0, 0, 0, 0, 0, 0, 0, 0, 0, 0\\n0, 0, 0, 0, 1, 0, 0, 0, 0]'),\n",
       " Text(286.9714285714286, 84.56, 'X[1] <= 0.55\\nentropy = 1.585\\nsamples = 3\\nvalue = [0, 0, 0, 0, 0, 0, 0, 0, 0, 0, 0, 0, 0, 0\\n0, 0, 0, 0, 0, 0, 0, 0, 1, 0, 0, 0, 0, 0\\n0, 1, 0, 1, 0, 0, 0, 0, 0]'),\n",
       " Text(282.6233766233766, 60.400000000000006, 'X[0] <= 3.4\\nentropy = 1.0\\nsamples = 2\\nvalue = [0, 0, 0, 0, 0, 0, 0, 0, 0, 0, 0, 0, 0, 0\\n0, 0, 0, 0, 0, 0, 0, 0, 1, 0, 0, 0, 0, 0\\n0, 0, 0, 1, 0, 0, 0, 0, 0]'),\n",
       " Text(278.27532467532467, 36.24000000000001, 'entropy = 0.0\\nsamples = 1\\nvalue = [0, 0, 0, 0, 0, 0, 0, 0, 0, 0, 0, 0, 0, 0\\n0, 0, 0, 0, 0, 0, 0, 0, 1, 0, 0, 0, 0, 0\\n0, 0, 0, 0, 0, 0, 0, 0, 0]'),\n",
       " Text(286.9714285714286, 36.24000000000001, 'entropy = 0.0\\nsamples = 1\\nvalue = [0, 0, 0, 0, 0, 0, 0, 0, 0, 0, 0, 0, 0, 0\\n0, 0, 0, 0, 0, 0, 0, 0, 0, 0, 0, 0, 0, 0\\n0, 0, 0, 1, 0, 0, 0, 0, 0]'),\n",
       " Text(291.3194805194805, 60.400000000000006, 'entropy = 0.0\\nsamples = 1\\nvalue = [0, 0, 0, 0, 0, 0, 0, 0, 0, 0, 0, 0, 0, 0\\n0, 0, 0, 0, 0, 0, 0, 0, 0, 0, 0, 0, 0, 0\\n0, 1, 0, 0, 0, 0, 0, 0, 0]'),\n",
       " Text(313.05974025974024, 132.88, 'X[1] <= 0.05\\nentropy = 2.585\\nsamples = 6\\nvalue = [0, 0, 0, 0, 0, 0, 0, 0, 0, 0, 1, 0, 0, 0\\n0, 0, 0, 0, 0, 0, 0, 0, 0, 0, 0, 0, 1, 1\\n0, 0, 0, 0, 0, 0, 1, 1, 1]'),\n",
       " Text(300.0155844155844, 108.72, 'X[0] <= 3.72\\nentropy = 1.585\\nsamples = 3\\nvalue = [0, 0, 0, 0, 0, 0, 0, 0, 0, 0, 1, 0, 0, 0\\n0, 0, 0, 0, 0, 0, 0, 0, 0, 0, 0, 0, 0, 1\\n0, 0, 0, 0, 0, 0, 1, 0, 0]'),\n",
       " Text(295.66753246753245, 84.56, 'entropy = 0.0\\nsamples = 1\\nvalue = [0, 0, 0, 0, 0, 0, 0, 0, 0, 0, 1, 0, 0, 0\\n0, 0, 0, 0, 0, 0, 0, 0, 0, 0, 0, 0, 0, 0\\n0, 0, 0, 0, 0, 0, 0, 0, 0]'),\n",
       " Text(304.3636363636364, 84.56, 'X[0] <= 3.8\\nentropy = 1.0\\nsamples = 2\\nvalue = [0, 0, 0, 0, 0, 0, 0, 0, 0, 0, 0, 0, 0, 0\\n0, 0, 0, 0, 0, 0, 0, 0, 0, 0, 0, 0, 0, 1\\n0, 0, 0, 0, 0, 0, 1, 0, 0]'),\n",
       " Text(300.0155844155844, 60.400000000000006, 'entropy = 0.0\\nsamples = 1\\nvalue = [0, 0, 0, 0, 0, 0, 0, 0, 0, 0, 0, 0, 0, 0\\n0, 0, 0, 0, 0, 0, 0, 0, 0, 0, 0, 0, 0, 1\\n0, 0, 0, 0, 0, 0, 0, 0, 0]'),\n",
       " Text(308.7116883116883, 60.400000000000006, 'entropy = 0.0\\nsamples = 1\\nvalue = [0, 0, 0, 0, 0, 0, 0, 0, 0, 0, 0, 0, 0, 0\\n0, 0, 0, 0, 0, 0, 0, 0, 0, 0, 0, 0, 0, 0\\n0, 0, 0, 0, 0, 0, 1, 0, 0]'),\n",
       " Text(326.1038961038961, 108.72, 'X[0] <= 3.72\\nentropy = 1.585\\nsamples = 3\\nvalue = [0, 0, 0, 0, 0, 0, 0, 0, 0, 0, 0, 0, 0, 0\\n0, 0, 0, 0, 0, 0, 0, 0, 0, 0, 0, 0, 1, 0\\n0, 0, 0, 0, 0, 0, 0, 1, 1]'),\n",
       " Text(321.75584415584416, 84.56, 'X[1] <= 0.15\\nentropy = 1.0\\nsamples = 2\\nvalue = [0, 0, 0, 0, 0, 0, 0, 0, 0, 0, 0, 0, 0, 0\\n0, 0, 0, 0, 0, 0, 0, 0, 0, 0, 0, 0, 1, 0\\n0, 0, 0, 0, 0, 0, 0, 0, 1]'),\n",
       " Text(317.4077922077922, 60.400000000000006, 'entropy = 0.0\\nsamples = 1\\nvalue = [0, 0, 0, 0, 0, 0, 0, 0, 0, 0, 0, 0, 0, 0\\n0, 0, 0, 0, 0, 0, 0, 0, 0, 0, 0, 0, 1, 0\\n0, 0, 0, 0, 0, 0, 0, 0, 0]'),\n",
       " Text(326.1038961038961, 60.400000000000006, 'entropy = 0.0\\nsamples = 1\\nvalue = [0, 0, 0, 0, 0, 0, 0, 0, 0, 0, 0, 0, 0, 0\\n0, 0, 0, 0, 0, 0, 0, 0, 0, 0, 0, 0, 0, 0\\n0, 0, 0, 0, 0, 0, 0, 0, 1]'),\n",
       " Text(330.451948051948, 84.56, 'entropy = 0.0\\nsamples = 1\\nvalue = [0, 0, 0, 0, 0, 0, 0, 0, 0, 0, 0, 0, 0, 0\\n0, 0, 0, 0, 0, 0, 0, 0, 0, 0, 0, 0, 0, 0\\n0, 0, 0, 0, 0, 0, 0, 1, 0]')]"
      ]
     },
     "execution_count": 22,
     "metadata": {},
     "output_type": "execute_result"
    },
    {
     "data": {
      "image/png": "[encoded data removed]",
      "text/plain": [
       "<Figure size 432x288 with 1 Axes>"
      ]
     },
     "metadata": {
      "needs_background": "light"
     },
     "output_type": "display_data"
    }
   ],
   "source": [
    "tree.plot_tree(dt)"
   ]
  },
  {
   "cell_type": "code",
   "execution_count": 10,
   "metadata": {},
   "outputs": [],
   "source": [
    "dt = DecisionTree(NonDeterminizer(), [AxisAlignedSplittingStrategy()], Entropy(), 'CART')"
   ]
  },
  {
   "cell_type": "code",
   "execution_count": 11,
   "metadata": {},
   "outputs": [
    {
     "ename": "KeyError",
     "evalue": "'categorical'",
     "output_type": "error",
     "traceback": [
      "\u001b[0;31m---------------------------------------------------------------------------\u001b[0m",
      "\u001b[0;31mKeyError\u001b[0m                                  Traceback (most recent call last)",
      "\u001b[0;32m<ipython-input-11-9b85305b5877>\u001b[0m in \u001b[0;36m<module>\u001b[0;34m\u001b[0m\n\u001b[0;32m----> 1\u001b[0;31m \u001b[0mdt\u001b[0m\u001b[0;34m.\u001b[0m\u001b[0mfit\u001b[0m\u001b[0;34m(\u001b[0m\u001b[0mds\u001b[0m\u001b[0;34m)\u001b[0m\u001b[0;34m\u001b[0m\u001b[0;34m\u001b[0m\u001b[0m\n\u001b[0m",
      "\u001b[0;32m~/Projects/Python/dtcontrol/dtcontrol/decision_tree/decision_tree.py\u001b[0m in \u001b[0;36mfit\u001b[0;34m(self, dataset)\u001b[0m\n\u001b[1;32m     30\u001b[0m             \u001b[0my\u001b[0m \u001b[0;34m=\u001b[0m \u001b[0mself\u001b[0m\u001b[0;34m.\u001b[0m\u001b[0mdeterminizer\u001b[0m\u001b[0;34m.\u001b[0m\u001b[0mdeterminize\u001b[0m\u001b[0;34m(\u001b[0m\u001b[0mdataset\u001b[0m\u001b[0;34m)\u001b[0m\u001b[0;34m\u001b[0m\u001b[0;34m\u001b[0m\u001b[0m\n\u001b[1;32m     31\u001b[0m             \u001b[0mdataset\u001b[0m\u001b[0;34m.\u001b[0m\u001b[0my\u001b[0m \u001b[0;34m=\u001b[0m \u001b[0my\u001b[0m\u001b[0;34m\u001b[0m\u001b[0;34m\u001b[0m\u001b[0m\n\u001b[0;32m---> 32\u001b[0;31m         \u001b[0mself\u001b[0m\u001b[0;34m.\u001b[0m\u001b[0mroot\u001b[0m\u001b[0;34m.\u001b[0m\u001b[0mfit\u001b[0m\u001b[0;34m(\u001b[0m\u001b[0mdataset\u001b[0m\u001b[0;34m)\u001b[0m\u001b[0;34m\u001b[0m\u001b[0;34m\u001b[0m\u001b[0m\n\u001b[0m\u001b[1;32m     33\u001b[0m         \u001b[0mdataset\u001b[0m\u001b[0;34m.\u001b[0m\u001b[0my\u001b[0m \u001b[0;34m=\u001b[0m \u001b[0mprev_y\u001b[0m\u001b[0;34m\u001b[0m\u001b[0;34m\u001b[0m\u001b[0m\n\u001b[1;32m     34\u001b[0m \u001b[0;34m\u001b[0m\u001b[0m\n",
      "\u001b[0;32m~/Projects/Python/dtcontrol/dtcontrol/decision_tree/decision_tree.py\u001b[0m in \u001b[0;36mfit\u001b[0;34m(self, dataset)\u001b[0m\n\u001b[1;32m    103\u001b[0m         \u001b[0;32mif\u001b[0m \u001b[0mself\u001b[0m\u001b[0;34m.\u001b[0m\u001b[0mcheck_done\u001b[0m\u001b[0;34m(\u001b[0m\u001b[0mdataset\u001b[0m\u001b[0;34m.\u001b[0m\u001b[0mx\u001b[0m\u001b[0;34m,\u001b[0m \u001b[0my\u001b[0m\u001b[0;34m)\u001b[0m\u001b[0;34m:\u001b[0m\u001b[0;34m\u001b[0m\u001b[0;34m\u001b[0m\u001b[0m\n\u001b[1;32m    104\u001b[0m             \u001b[0;32mreturn\u001b[0m\u001b[0;34m\u001b[0m\u001b[0;34m\u001b[0m\u001b[0m\n\u001b[0;32m--> 105\u001b[0;31m         \u001b[0msplits\u001b[0m \u001b[0;34m=\u001b[0m \u001b[0;34m[\u001b[0m\u001b[0mstrategy\u001b[0m\u001b[0;34m.\u001b[0m\u001b[0mfind_split\u001b[0m\u001b[0;34m(\u001b[0m\u001b[0mdataset\u001b[0m\u001b[0;34m,\u001b[0m \u001b[0my\u001b[0m\u001b[0;34m,\u001b[0m \u001b[0mself\u001b[0m\u001b[0;34m.\u001b[0m\u001b[0mimpurity_measure\u001b[0m\u001b[0;34m)\u001b[0m \u001b[0;32mfor\u001b[0m \u001b[0mstrategy\u001b[0m \u001b[0;32min\u001b[0m \u001b[0mself\u001b[0m\u001b[0;34m.\u001b[0m\u001b[0msplit_strategies\u001b[0m\u001b[0;34m]\u001b[0m\u001b[0;34m\u001b[0m\u001b[0;34m\u001b[0m\u001b[0m\n\u001b[0m\u001b[1;32m    106\u001b[0m         \u001b[0msplits\u001b[0m \u001b[0;34m=\u001b[0m \u001b[0;34m[\u001b[0m\u001b[0ms\u001b[0m \u001b[0;32mfor\u001b[0m \u001b[0ms\u001b[0m \u001b[0;32min\u001b[0m \u001b[0msplits\u001b[0m \u001b[0;32mif\u001b[0m \u001b[0ms\u001b[0m \u001b[0;32mis\u001b[0m \u001b[0;32mnot\u001b[0m \u001b[0;32mNone\u001b[0m\u001b[0;34m]\u001b[0m\u001b[0;34m\u001b[0m\u001b[0;34m\u001b[0m\u001b[0m\n\u001b[1;32m    107\u001b[0m         \u001b[0;32mif\u001b[0m \u001b[0;32mnot\u001b[0m \u001b[0msplits\u001b[0m\u001b[0;34m:\u001b[0m\u001b[0;34m\u001b[0m\u001b[0;34m\u001b[0m\u001b[0m\n",
      "\u001b[0;32m~/Projects/Python/dtcontrol/dtcontrol/decision_tree/decision_tree.py\u001b[0m in \u001b[0;36m<listcomp>\u001b[0;34m(.0)\u001b[0m\n\u001b[1;32m    103\u001b[0m         \u001b[0;32mif\u001b[0m \u001b[0mself\u001b[0m\u001b[0;34m.\u001b[0m\u001b[0mcheck_done\u001b[0m\u001b[0;34m(\u001b[0m\u001b[0mdataset\u001b[0m\u001b[0;34m.\u001b[0m\u001b[0mx\u001b[0m\u001b[0;34m,\u001b[0m \u001b[0my\u001b[0m\u001b[0;34m)\u001b[0m\u001b[0;34m:\u001b[0m\u001b[0;34m\u001b[0m\u001b[0;34m\u001b[0m\u001b[0m\n\u001b[1;32m    104\u001b[0m             \u001b[0;32mreturn\u001b[0m\u001b[0;34m\u001b[0m\u001b[0;34m\u001b[0m\u001b[0m\n\u001b[0;32m--> 105\u001b[0;31m         \u001b[0msplits\u001b[0m \u001b[0;34m=\u001b[0m \u001b[0;34m[\u001b[0m\u001b[0mstrategy\u001b[0m\u001b[0;34m.\u001b[0m\u001b[0mfind_split\u001b[0m\u001b[0;34m(\u001b[0m\u001b[0mdataset\u001b[0m\u001b[0;34m,\u001b[0m \u001b[0my\u001b[0m\u001b[0;34m,\u001b[0m \u001b[0mself\u001b[0m\u001b[0;34m.\u001b[0m\u001b[0mimpurity_measure\u001b[0m\u001b[0;34m)\u001b[0m \u001b[0;32mfor\u001b[0m \u001b[0mstrategy\u001b[0m \u001b[0;32min\u001b[0m \u001b[0mself\u001b[0m\u001b[0;34m.\u001b[0m\u001b[0msplit_strategies\u001b[0m\u001b[0;34m]\u001b[0m\u001b[0;34m\u001b[0m\u001b[0;34m\u001b[0m\u001b[0m\n\u001b[0m\u001b[1;32m    106\u001b[0m         \u001b[0msplits\u001b[0m \u001b[0;34m=\u001b[0m \u001b[0;34m[\u001b[0m\u001b[0ms\u001b[0m \u001b[0;32mfor\u001b[0m \u001b[0ms\u001b[0m \u001b[0;32min\u001b[0m \u001b[0msplits\u001b[0m \u001b[0;32mif\u001b[0m \u001b[0ms\u001b[0m \u001b[0;32mis\u001b[0m \u001b[0;32mnot\u001b[0m \u001b[0;32mNone\u001b[0m\u001b[0;34m]\u001b[0m\u001b[0;34m\u001b[0m\u001b[0;34m\u001b[0m\u001b[0m\n\u001b[1;32m    107\u001b[0m         \u001b[0;32mif\u001b[0m \u001b[0;32mnot\u001b[0m \u001b[0msplits\u001b[0m\u001b[0;34m:\u001b[0m\u001b[0;34m\u001b[0m\u001b[0;34m\u001b[0m\u001b[0m\n",
      "\u001b[0;32m~/Projects/Python/dtcontrol/dtcontrol/decision_tree/splitting/axis_aligned.py\u001b[0m in \u001b[0;36mfind_split\u001b[0;34m(self, dataset, y, impurity_measure)\u001b[0m\n\u001b[1;32m      4\u001b[0m \u001b[0;32mclass\u001b[0m \u001b[0mAxisAlignedSplittingStrategy\u001b[0m\u001b[0;34m(\u001b[0m\u001b[0mSplittingStrategy\u001b[0m\u001b[0;34m)\u001b[0m\u001b[0;34m:\u001b[0m\u001b[0;34m\u001b[0m\u001b[0;34m\u001b[0m\u001b[0m\n\u001b[1;32m      5\u001b[0m     \u001b[0;32mdef\u001b[0m \u001b[0mfind_split\u001b[0m\u001b[0;34m(\u001b[0m\u001b[0mself\u001b[0m\u001b[0;34m,\u001b[0m \u001b[0mdataset\u001b[0m\u001b[0;34m,\u001b[0m \u001b[0my\u001b[0m\u001b[0;34m,\u001b[0m \u001b[0mimpurity_measure\u001b[0m\u001b[0;34m)\u001b[0m\u001b[0;34m:\u001b[0m\u001b[0;34m\u001b[0m\u001b[0;34m\u001b[0m\u001b[0m\n\u001b[0;32m----> 6\u001b[0;31m         \u001b[0mx_numeric\u001b[0m \u001b[0;34m=\u001b[0m \u001b[0mdataset\u001b[0m\u001b[0;34m.\u001b[0m\u001b[0mget_numeric_x\u001b[0m\u001b[0;34m(\u001b[0m\u001b[0;34m)\u001b[0m\u001b[0;34m\u001b[0m\u001b[0;34m\u001b[0m\u001b[0m\n\u001b[0m\u001b[1;32m      7\u001b[0m         \u001b[0msplits\u001b[0m \u001b[0;34m=\u001b[0m \u001b[0;34m{\u001b[0m\u001b[0;34m}\u001b[0m\u001b[0;34m\u001b[0m\u001b[0;34m\u001b[0m\u001b[0m\n\u001b[1;32m      8\u001b[0m         \u001b[0;32mfor\u001b[0m \u001b[0mfeature\u001b[0m \u001b[0;32min\u001b[0m \u001b[0mrange\u001b[0m\u001b[0;34m(\u001b[0m\u001b[0mx_numeric\u001b[0m\u001b[0;34m.\u001b[0m\u001b[0mshape\u001b[0m\u001b[0;34m[\u001b[0m\u001b[0;36m1\u001b[0m\u001b[0;34m]\u001b[0m\u001b[0;34m)\u001b[0m\u001b[0;34m:\u001b[0m\u001b[0;34m\u001b[0m\u001b[0;34m\u001b[0m\u001b[0m\n",
      "\u001b[0;32m~/Projects/Python/dtcontrol/dtcontrol/dataset/dataset.py\u001b[0m in \u001b[0;36mget_numeric_x\u001b[0;34m(self)\u001b[0m\n\u001b[1;32m    104\u001b[0m     \u001b[0;32mdef\u001b[0m \u001b[0mget_numeric_x\u001b[0m\u001b[0;34m(\u001b[0m\u001b[0mself\u001b[0m\u001b[0;34m)\u001b[0m\u001b[0;34m:\u001b[0m  \u001b[0;31m# TODO MJA: test\u001b[0m\u001b[0;34m\u001b[0m\u001b[0;34m\u001b[0m\u001b[0m\n\u001b[1;32m    105\u001b[0m         \u001b[0;32mif\u001b[0m \u001b[0mself\u001b[0m\u001b[0;34m.\u001b[0m\u001b[0mnumeric_x\u001b[0m \u001b[0;32mis\u001b[0m \u001b[0;32mNone\u001b[0m\u001b[0;34m:\u001b[0m\u001b[0;34m\u001b[0m\u001b[0;34m\u001b[0m\u001b[0m\n\u001b[0;32m--> 106\u001b[0;31m             \u001b[0mnumeric_columns\u001b[0m \u001b[0;34m=\u001b[0m \u001b[0mset\u001b[0m\u001b[0;34m(\u001b[0m\u001b[0mrange\u001b[0m\u001b[0;34m(\u001b[0m\u001b[0mself\u001b[0m\u001b[0;34m.\u001b[0m\u001b[0mx\u001b[0m\u001b[0;34m.\u001b[0m\u001b[0mshape\u001b[0m\u001b[0;34m[\u001b[0m\u001b[0;36m1\u001b[0m\u001b[0;34m]\u001b[0m\u001b[0;34m)\u001b[0m\u001b[0;34m)\u001b[0m\u001b[0;34m.\u001b[0m\u001b[0mdifference\u001b[0m\u001b[0;34m(\u001b[0m\u001b[0mset\u001b[0m\u001b[0;34m(\u001b[0m\u001b[0mself\u001b[0m\u001b[0;34m.\u001b[0m\u001b[0mx_metadata\u001b[0m\u001b[0;34m[\u001b[0m\u001b[0;34m'categorical'\u001b[0m\u001b[0;34m]\u001b[0m\u001b[0;34m)\u001b[0m\u001b[0;34m)\u001b[0m\u001b[0;34m\u001b[0m\u001b[0;34m\u001b[0m\u001b[0m\n\u001b[0m\u001b[1;32m    107\u001b[0m             \u001b[0mnumeric_columns\u001b[0m \u001b[0;34m=\u001b[0m \u001b[0msorted\u001b[0m\u001b[0;34m(\u001b[0m\u001b[0mlist\u001b[0m\u001b[0;34m(\u001b[0m\u001b[0mnumeric_columns\u001b[0m\u001b[0;34m)\u001b[0m\u001b[0;34m)\u001b[0m\u001b[0;34m\u001b[0m\u001b[0;34m\u001b[0m\u001b[0m\n\u001b[1;32m    108\u001b[0m             \u001b[0mself\u001b[0m\u001b[0;34m.\u001b[0m\u001b[0mnumeric_feature_mapping\u001b[0m \u001b[0;34m=\u001b[0m \u001b[0;34m{\u001b[0m\u001b[0mi\u001b[0m\u001b[0;34m:\u001b[0m \u001b[0mnumeric_columns\u001b[0m\u001b[0;34m[\u001b[0m\u001b[0mi\u001b[0m\u001b[0;34m]\u001b[0m \u001b[0;32mfor\u001b[0m \u001b[0mi\u001b[0m \u001b[0;32min\u001b[0m \u001b[0mrange\u001b[0m\u001b[0;34m(\u001b[0m\u001b[0mlen\u001b[0m\u001b[0;34m(\u001b[0m\u001b[0mnumeric_columns\u001b[0m\u001b[0;34m)\u001b[0m\u001b[0;34m)\u001b[0m\u001b[0;34m}\u001b[0m\u001b[0;34m\u001b[0m\u001b[0;34m\u001b[0m\u001b[0m\n",
      "\u001b[0;31mKeyError\u001b[0m: 'categorical'"
     ]
    }
   ],
   "source": [
    "dt.fit(ds)"
   ]
  },
  {
   "cell_type": "code",
   "execution_count": null,
   "metadata": {},
   "outputs": [],
   "source": []
  }
 ],
 "metadata": {
  "kernelspec": {
   "display_name": "Python 3",
   "language": "python",
   "name": "python3"
  },
  "language_info": {
   "codemirror_mode": {
    "name": "ipython",
    "version": 3
   },
   "file_extension": ".py",
   "mimetype": "text/x-python",
   "name": "python",
   "nbconvert_exporter": "python",
   "pygments_lexer": "ipython3",
   "version": "3.6.9"
  }
 },
 "nbformat": 4,
 "nbformat_minor": 2
}
