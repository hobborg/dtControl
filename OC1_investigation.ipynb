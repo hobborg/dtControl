{
 "cells": [
  {
   "cell_type": "code",
   "execution_count": 6,
   "metadata": {},
   "outputs": [],
   "source": [
    "import numpy as np\n",
    "import pandas as pd\n",
    "from dataset.dataset import Dataset\n",
    "from dataset.vector_dataset_loader import VectorDatasetLoader"
   ]
  },
  {
   "cell_type": "code",
   "execution_count": 7,
   "metadata": {},
   "outputs": [],
   "source": [
    "X, _, Y, _ = VectorDatasetLoader()._load_dataset('../XYdatasets/tworooms_large.vector')"
   ]
  },
  {
   "cell_type": "code",
   "execution_count": 8,
   "metadata": {},
   "outputs": [
    {
     "data": {
      "text/plain": [
       "array([3, 0, 0, 0])"
      ]
     },
     "execution_count": 8,
     "metadata": {},
     "output_type": "execute_result"
    }
   ],
   "source": [
    "Y[24455]"
   ]
  },
  {
   "cell_type": "code",
   "execution_count": 9,
   "metadata": {},
   "outputs": [
    {
     "data": {
      "text/plain": [
       "(113838, 4)"
      ]
     },
     "execution_count": 9,
     "metadata": {},
     "output_type": "execute_result"
    }
   ],
   "source": [
    "Y.shape"
   ]
  },
  {
   "cell_type": "markdown",
   "metadata": {},
   "source": [
    "Y[X[:,0] <= 3.16]"
   ]
  },
  {
   "cell_type": "code",
   "execution_count": 24,
   "metadata": {
    "scrolled": true
   },
   "outputs": [
    {
     "data": {
      "text/plain": [
       "array([[ 3.12, -0.9 ],\n",
       "       [ 3.2 , -0.9 ],\n",
       "       [ 3.12, -0.8 ],\n",
       "       [ 3.2 , -0.8 ],\n",
       "       [ 3.12, -0.7 ],\n",
       "       [ 3.2 , -0.7 ],\n",
       "       [ 3.12, -0.6 ],\n",
       "       [ 3.2 , -0.6 ],\n",
       "       [ 3.12, -0.5 ],\n",
       "       [ 3.2 , -0.5 ],\n",
       "       [ 3.12, -0.4 ],\n",
       "       [ 3.2 , -0.4 ],\n",
       "       [ 3.12, -0.3 ],\n",
       "       [ 3.2 , -0.3 ],\n",
       "       [ 3.12, -0.2 ],\n",
       "       [ 3.2 , -0.2 ],\n",
       "       [ 3.12, -0.1 ],\n",
       "       [ 3.2 , -0.1 ],\n",
       "       [ 3.12,  0.  ],\n",
       "       [ 3.2 ,  0.  ],\n",
       "       [ 3.12,  0.1 ],\n",
       "       [ 3.2 ,  0.1 ],\n",
       "       [ 3.12,  0.2 ],\n",
       "       [ 3.2 ,  0.2 ],\n",
       "       [ 3.12,  0.3 ],\n",
       "       [ 3.2 ,  0.3 ],\n",
       "       [ 3.12,  0.4 ],\n",
       "       [ 3.2 ,  0.4 ],\n",
       "       [ 3.12,  0.5 ],\n",
       "       [ 3.2 ,  0.5 ],\n",
       "       [ 3.12,  0.6 ],\n",
       "       [ 3.2 ,  0.6 ],\n",
       "       [ 3.12,  0.7 ],\n",
       "       [ 3.2 ,  0.7 ],\n",
       "       [ 3.12,  0.8 ],\n",
       "       [ 3.2 ,  0.8 ],\n",
       "       [ 3.12,  0.9 ]])"
      ]
     },
     "execution_count": 24,
     "metadata": {},
     "output_type": "execute_result"
    }
   ],
   "source": [
    "X[(X[:,0]>=3.1) & (X[:,0]<=3.2)]"
   ]
  }
 ],
 "metadata": {
  "kernelspec": {
   "display_name": "Python 3",
   "language": "python",
   "name": "python3"
  },
  "language_info": {
   "codemirror_mode": {
    "name": "ipython",
    "version": 3
   },
   "file_extension": ".py",
   "mimetype": "text/x-python",
   "name": "python",
   "nbconvert_exporter": "python",
   "pygments_lexer": "ipython3",
   "version": "3.6.8"
  }
 },
 "nbformat": 4,
 "nbformat_minor": 2
}
