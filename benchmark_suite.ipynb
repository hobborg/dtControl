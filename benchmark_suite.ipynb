{
 "cells": [
  {
   "cell_type": "code",
   "execution_count": 1,
   "metadata": {},
   "outputs": [],
   "source": [
    "%load_ext autoreload\n",
    "%autoreload 2"
   ]
  },
  {
   "cell_type": "code",
   "execution_count": 4,
   "metadata": {},
   "outputs": [],
   "source": [
    "import project_path\n",
    "from benchmark_suite import BenchmarkSuite\n",
    "from classifiers.linear_classifier_decision_tree import LinearClassifierDecisionTree\n",
    "from classifiers.cart_custom_decision_tree import CartCustomDecisionTree\n",
    "from classifiers.max_every_node_decision_tree import MaxCartDecisionTree\n",
    "from classifiers.max_every_node_lc_decision_tree import MaxLCDecisionTree\n",
    "from classifiers.norm_single_output_decision_tree import NormSingleOutputDecisionTree\n",
    "from classifiers.oc1_wrapper import OC1Wrapper\n",
    "from sklearn.linear_model import LogisticRegression\n",
    "from sklearn.svm import LinearSVC"
   ]
  },
  {
   "cell_type": "code",
   "execution_count": 5,
   "metadata": {},
   "outputs": [
    {
     "name": "stderr",
     "output_type": "stream",
     "text": [
      "2019-10-18 15:10:23,557 - INFO: Benchmark statistics will be available in benchmark.json and benchmark.html.\n",
      "2019-10-18 15:10:23,558 - INFO: Constructed trees will be written to decision_trees.\n"
     ]
    }
   ],
   "source": [
    "suite = BenchmarkSuite(timeout=5*60, save_folder='saved_classifiers')\n",
    "suite.add_datasets(['../XYdatasets', '../dumps'],\n",
    "                   include=['cartpole'],\n",
    "                   exclude=['twotanks-all-controllable-euler-latest']\n",
    "                  )"
   ]
  },
  {
   "cell_type": "code",
   "execution_count": 6,
   "metadata": {},
   "outputs": [],
   "source": [
    "classifiers = [CartCustomDecisionTree(),\n",
    "               # LinearClassifierDecisionTree(LogisticRegression, solver='lbfgs', penalty='none'),\n",
    "               # LinearClassifierDecisionTree(LinearSVC, max_iter=5000),\n",
    "               MaxCartDecisionTree(),\n",
    "               #MaxLCDecisionTree(LogisticRegression, solver='lbfgs', penalty='none'),\n",
    "               NormSingleOutputDecisionTree(max)\n",
    "               # OC1Wrapper(num_restarts=20, num_jumps=5)\n",
    "              ]"
   ]
  },
  {
   "cell_type": "code",
   "execution_count": 7,
   "metadata": {
    "scrolled": true
   },
   "outputs": [
    {
     "name": "stderr",
     "output_type": "stream",
     "text": [
      "2019-10-18 15:10:32,723 - INFO: 1/3: Evaluating CART on cartpole... \n"
     ]
    },
    {
     "name": "stdout",
     "output_type": "stream",
     "text": [
      "Loading existing pickled dataset... done loading.\n"
     ]
    },
    {
     "name": "stderr",
     "output_type": "stream",
     "text": [
      "2019-10-18 15:10:33,131 - INFO: 1/3: Evaluated CART on cartpole in 00:00:00.218.\n",
      "2019-10-18 15:10:33,132 - INFO: 2/3: Evaluating MaxEveryNodeDT on cartpole... \n",
      "2019-10-18 15:10:33,262 - INFO: 2/3: Evaluated MaxEveryNodeDT on cartpole in 00:00:00.084.\n",
      "2019-10-18 15:10:33,264 - INFO: 3/3: Evaluating NormSingleOutputDT(Max) on cartpole... \n",
      "2019-10-18 15:10:33,436 - INFO: 3/3: Evaluated NormSingleOutputDT(Max) on cartpole in 00:00:00.119.\n",
      "2019-10-18 15:10:33,437 - INFO: All benchmarks completed. Shutting down dtControl.\n"
     ]
    }
   ],
   "source": [
    "suite.benchmark(classifiers)"
   ]
  },
  {
   "cell_type": "code",
   "execution_count": 8,
   "metadata": {},
   "outputs": [
    {
     "data": {
      "text/html": [
       "<html><a href=\"benchmark.html\" target=\"_blank\">View table</a></html>"
      ],
      "text/plain": [
       "<IPython.core.display.HTML object>"
      ]
     },
     "metadata": {},
     "output_type": "display_data"
    }
   ],
   "source": [
    "suite.display_html()"
   ]
  },
  {
   "cell_type": "code",
   "execution_count": 23,
   "metadata": {},
   "outputs": [],
   "source": [
    "suite.delete_cell('cruise-medium-latest', 'MaxEveryNodeDT')"
   ]
  },
  {
   "cell_type": "code",
   "execution_count": null,
   "metadata": {},
   "outputs": [],
   "source": []
  }
 ],
 "metadata": {
  "kernelspec": {
   "display_name": "Python 3",
   "language": "python",
   "name": "python3"
  },
  "language_info": {
   "codemirror_mode": {
    "name": "ipython",
    "version": 3
   },
   "file_extension": ".py",
   "mimetype": "text/x-python",
   "name": "python",
   "nbconvert_exporter": "python",
   "pygments_lexer": "ipython3",
   "version": "3.6.8"
  },
  "pycharm": {
   "stem_cell": {
    "cell_type": "raw",
    "metadata": {
     "collapsed": false
    },
    "source": []
   }
  }
 },
 "nbformat": 4,
 "nbformat_minor": 1
}
