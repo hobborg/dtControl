{
 "cells": [
  {
   "cell_type": "code",
   "execution_count": 4,
   "metadata": {},
   "outputs": [
    {
     "name": "stdout",
     "output_type": "stream",
     "text": [
      "The autoreload extension is already loaded. To reload it, use:\n",
      "  %reload_ext autoreload\n"
     ]
    }
   ],
   "source": [
    "%load_ext autoreload\n",
    "%autoreload"
   ]
  },
  {
   "cell_type": "code",
   "execution_count": 5,
   "metadata": {},
   "outputs": [],
   "source": [
    "import project_path\n",
    "from benchmark_suite import BenchmarkSuite\n",
    "from classifiers.linear_classifier_dt import LinearClassifierDT\n",
    "from classifiers.cart_custom_dt import CartDT\n",
    "from classifiers.max_freq_dt import MaxFreqDT\n",
    "from classifiers.max_freq_linear_classifier_dt import MaxFreqLinearClassifierDT\n",
    "from classifiers.norm_single_output_dt import NormSingleOutputDT\n",
    "from classifiers.oc1_wrapper import OC1Wrapper\n",
    "from sklearn.linear_model import LogisticRegression\n",
    "from sklearn.svm import LinearSVC"
   ]
  },
  {
   "cell_type": "code",
   "execution_count": 6,
   "metadata": {},
   "outputs": [
    {
     "name": "stderr",
     "output_type": "stream",
     "text": [
      "Benchmark statistics will be available in benchmark.json and benchmark.html.\n",
      "Constructed trees will be written to decision_trees.\n"
     ]
    }
   ],
   "source": [
    "suite = BenchmarkSuite(timeout=5*60, save_folder='saved_classifiers')\n",
    "suite.add_datasets(['../XYdatasets', '../dumps'],\n",
    "                   include=['cartpole'],\n",
    "                   exclude=['twotanks-all-controllable-euler-latest']\n",
    "                  )"
   ]
  },
  {
   "cell_type": "code",
   "execution_count": 7,
   "metadata": {},
   "outputs": [],
   "source": [
    "classifiers = [CartDT(),\n",
    "               # LinearClassifierDecisionTree(LogisticRegression, solver='lbfgs', penalty='none'),\n",
    "               # LinearClassifierDecisionTree(LinearSVC, max_iter=5000),\n",
    "               # MaxFreqDT(),\n",
    "               # MaxLCDecisionTree(LogisticRegression, solver='lbfgs', penalty='none'),\n",
    "               # NormSingleOutputDT(max)\n",
    "               # OC1Wrapper(num_restarts=20, num_jumps=5)\n",
    "              ]"
   ]
  },
  {
   "cell_type": "code",
   "execution_count": 10,
   "metadata": {
    "scrolled": true
   },
   "outputs": [
    {
     "name": "stderr",
     "output_type": "stream",
     "text": [
      "1/3: Evaluating CART on cartpole... \n",
      "1/3: Not running CART on cartpole as result available in benchmark.json.\n",
      "2/3: Evaluating MaxFreqDT on cartpole... \n",
      "2/3: Not running MaxFreqDT on cartpole as result available in benchmark.json.\n",
      "3/3: Evaluating MaxNormSingleOutputDT on cartpole... \n",
      "3/3: Not running MaxNormSingleOutputDT on cartpole as result available in benchmark.json.\n",
      "All benchmarks completed. Shutting down dtControl.\n"
     ]
    }
   ],
   "source": [
    "suite.benchmark(classifiers)"
   ]
  },
  {
   "cell_type": "code",
   "execution_count": 11,
   "metadata": {},
   "outputs": [
    {
     "data": {
      "text/html": [
       "<html><a href=\"benchmark.html\" target=\"_blank\">View table</a></html>"
      ],
      "text/plain": [
       "<IPython.core.display.HTML object>"
      ]
     },
     "metadata": {},
     "output_type": "display_data"
    }
   ],
   "source": [
    "suite.display_html()"
   ]
  },
  {
   "cell_type": "code",
   "execution_count": 23,
   "metadata": {},
   "outputs": [],
   "source": [
    "suite.delete_cell('cruise-medium-latest', 'MaxEveryNodeDT')"
   ]
  },
  {
   "cell_type": "code",
   "execution_count": null,
   "metadata": {},
   "outputs": [],
   "source": []
  }
 ],
 "metadata": {
  "kernelspec": {
   "display_name": "Python 3",
   "language": "python",
   "name": "python3"
  },
  "language_info": {
   "codemirror_mode": {
    "name": "ipython",
    "version": 3
   },
   "file_extension": ".py",
   "mimetype": "text/x-python",
   "name": "python",
   "nbconvert_exporter": "python",
   "pygments_lexer": "ipython3",
   "version": "3.6.8"
  },
  "pycharm": {
   "stem_cell": {
    "cell_type": "raw",
    "metadata": {
     "collapsed": false
    },
    "source": []
   }
  }
 },
 "nbformat": 4,
 "nbformat_minor": 1
}
