{
 "cells": [
  {
   "cell_type": "code",
   "execution_count": 1,
   "metadata": {},
   "outputs": [],
   "source": [
    "%load_ext autoreload\n",
    "%autoreload 2"
   ]
  },
  {
   "cell_type": "code",
   "execution_count": 2,
   "metadata": {},
   "outputs": [],
   "source": [
    "from benchmark_suite import BenchmarkSuite\n",
    "from decision_tree_wrapper import DecisionTreeWrapper\n",
    "from unique_label_decision_tree import UniqueLabelDecisionTree\n",
    "from max_every_node_decision_tree import MaxEveryNodeDecisionTree\n",
    "from multi_output_decision_tree import MultiOutputDecisionTree\n",
    "from smarter_splits.LinearClassifierDecisionTree import LinearClassifierDecisionTree\n",
    "from smarter_splits.OC1Wrapper import OC1Wrapper\n",
    "from sklearn.linear_model import LogisticRegression\n",
    "from sklearn.svm import LinearSVC\n",
    "from table_printer import print_table"
   ]
  },
  {
   "cell_type": "code",
   "execution_count": 3,
   "metadata": {},
   "outputs": [],
   "source": [
    "suite = BenchmarkSuite(timeout=120)\n",
    "suite.load_datasets('../XYdatasets', exclude=[], multiout=['vehicle', 'aircraft'])"
   ]
  },
  {
   "cell_type": "code",
   "execution_count": 4,
   "metadata": {},
   "outputs": [],
   "source": [
    "classifiers = [DecisionTreeWrapper(presort=False,criterion='entropy', min_samples_split=2),\n",
    "               UniqueLabelDecisionTree(presort=False,criterion='entropy', min_samples_split=2),\n",
    "               LinearClassifierDecisionTree(LogisticRegression, solver='lbfgs', penalty='none'),\n",
    "               LinearClassifierDecisionTree(LinearSVC, max_iter=5000),\n",
    "               MaxEveryNodeDecisionTree(LogisticRegression, solver='lbfgs', penalty='none'),\n",
    "               OC1Wrapper(num_restarts=20, num_jumps=5),\n",
    "               MultiOutputDecisionTree(presort=False,criterion='entropy', min_samples_split=2)\n",
    "              ]"
   ]
  },
  {
   "cell_type": "code",
   "execution_count": 8,
   "metadata": {
    "scrolled": true
   },
   "outputs": [
    {
     "name": "stdout",
     "output_type": "stream",
     "text": [
      "Loaded DT on aircraft (1/49).\n",
      "Loaded UniqueLabelDT on aircraft (2/49).\n",
      "Loaded LinearClassifierDT(LogisticRegression) on aircraft (3/49).\n",
      "Loaded LinearClassifierDT(LinearSVC) on aircraft (4/49).\n",
      "Loaded MaxEveryNodeDT(LogisticRegression) on aircraft (5/49).\n",
      "Loaded OC1 on aircraft (6/49).\n",
      "Loaded MultiOutputDT on aircraft (7/49).\n",
      "Loaded DT on cartpole (8/49).\n",
      "Loaded UniqueLabelDT on cartpole (9/49).\n",
      "Loaded LinearClassifierDT(LogisticRegression) on cartpole (10/49).\n",
      "Loaded LinearClassifierDT(LinearSVC) on cartpole (11/49).\n",
      "Loaded MaxEveryNodeDT(LogisticRegression) on cartpole (12/49).\n",
      "Loaded OC1 on cartpole (13/49).\n",
      "Loaded MultiOutputDT on cartpole (14/49).\n",
      "Loaded DT on cruise-latest (15/49).\n",
      "Loaded UniqueLabelDT on cruise-latest (16/49).\n",
      "Loaded LinearClassifierDT(LogisticRegression) on cruise-latest (17/49).\n",
      "Loaded LinearClassifierDT(LinearSVC) on cruise-latest (18/49).\n",
      "Loaded MaxEveryNodeDT(LogisticRegression) on cruise-latest (19/49).\n",
      "Loaded OC1 on cruise-latest (20/49).\n",
      "Loaded MultiOutputDT on cruise-latest (21/49).\n",
      "Loaded DT on cruise-medium-latest (22/49).\n",
      "Loaded UniqueLabelDT on cruise-medium-latest (23/49).\n",
      "Loaded LinearClassifierDT(LogisticRegression) on cruise-medium-latest (24/49).\n",
      "Loaded LinearClassifierDT(LinearSVC) on cruise-medium-latest (25/49).\n",
      "Loaded MaxEveryNodeDT(LogisticRegression) on cruise-medium-latest (26/49).\n",
      "Loaded OC1 on cruise-medium-latest (27/49).\n",
      "Loaded MultiOutputDT on cruise-medium-latest (28/49).\n",
      "Loaded DT on cruise-small-latest (29/49).\n",
      "Loaded UniqueLabelDT on cruise-small-latest (30/49).\n",
      "Loaded LinearClassifierDT(LogisticRegression) on cruise-small-latest (31/49).\n",
      "Loaded LinearClassifierDT(LinearSVC) on cruise-small-latest (32/49).\n",
      "Loaded MaxEveryNodeDT(LogisticRegression) on cruise-small-latest (33/49).\n",
      "Loaded OC1 on cruise-small-latest (34/49).\n",
      "Loaded MultiOutputDT on cruise-small-latest (35/49).\n",
      "Loaded DT on tworooms_large (36/49).\n",
      "Loaded UniqueLabelDT on tworooms_large (37/49).\n",
      "Loaded LinearClassifierDT(LogisticRegression) on tworooms_large (38/49).\n",
      "Loaded LinearClassifierDT(LinearSVC) on tworooms_large (39/49).\n",
      "Loaded MaxEveryNodeDT(LogisticRegression) on tworooms_large (40/49).\n",
      "Loaded OC1 on tworooms_large (41/49).\n",
      "Loaded MultiOutputDT on tworooms_large (42/49).\n",
      "Loaded DT on vehicle (43/49).\n",
      "Loaded UniqueLabelDT on vehicle (44/49).\n",
      "Loaded LinearClassifierDT(LogisticRegression) on vehicle (45/49).\n",
      "Loaded LinearClassifierDT(LinearSVC) on vehicle (46/49).\n",
      "Loaded MaxEveryNodeDT(LogisticRegression) on vehicle (47/49).\n",
      "Loaded OC1 on vehicle (48/49).\n",
      "Loaded MultiOutputDT on vehicle (49/49).\n",
      "Done.\n"
     ]
    },
    {
     "data": {
      "text/html": [
       "<html><a href=\"tmp/benchmark.html\" target=\"_blank\">View table</a></html>"
      ],
      "text/plain": [
       "<IPython.core.display.HTML object>"
      ]
     },
     "metadata": {},
     "output_type": "display_data"
    }
   ],
   "source": [
    "print_table(suite.benchmark(classifiers, file='benchmark.json'), inline=False)"
   ]
  },
  {
   "cell_type": "code",
   "execution_count": 7,
   "metadata": {},
   "outputs": [],
   "source": [
    "suite.delete_dataset_results('cruise-small-latest')"
   ]
  },
  {
   "cell_type": "code",
   "execution_count": null,
   "metadata": {},
   "outputs": [],
   "source": []
  }
 ],
 "metadata": {
  "kernelspec": {
   "display_name": "Python 3",
   "language": "python",
   "name": "python3"
  },
  "language_info": {
   "codemirror_mode": {
    "name": "ipython",
    "version": 3
   },
   "file_extension": ".py",
   "mimetype": "text/x-python",
   "name": "python",
   "nbconvert_exporter": "python",
   "pygments_lexer": "ipython3",
   "version": "3.6.8"
  }
 },
 "nbformat": 4,
 "nbformat_minor": 1
}
