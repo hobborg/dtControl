{
 "cells": [
  {
   "cell_type": "code",
   "execution_count": 1,
   "metadata": {},
   "outputs": [],
   "source": [
    "%load_ext autoreload\n",
    "%autoreload 2"
   ]
  },
  {
   "cell_type": "code",
   "execution_count": 2,
   "metadata": {},
   "outputs": [],
   "source": [
    "import project_path\n",
    "from benchmark_suite import BenchmarkSuite\n",
    "from classifiers.linear_classifier_decision_tree import LinearClassifierDecisionTree\n",
    "from classifiers.cart_custom_decision_tree import CartCustomDecisionTree\n",
    "from classifiers.max_every_node_decision_tree import MaxCartDecisionTree\n",
    "from classifiers.max_every_node_lc_decision_tree import MaxLCDecisionTree\n",
    "from classifiers.oc1_wrapper import OC1Wrapper\n",
    "from sklearn.linear_model import LogisticRegression\n",
    "from sklearn.svm import LinearSVC"
   ]
  },
  {
   "cell_type": "code",
   "execution_count": 19,
   "metadata": {},
   "outputs": [],
   "source": [
    "suite = BenchmarkSuite(timeout=5*60, save_folder='saved_classifiers')\n",
    "suite.add_datasets(['../XYdatasets', '../dumps'],\n",
    "                   include=None,\n",
    "                   exclude=['twotanks-all-controllable-euler-latest', '10rooms']\n",
    "                  )"
   ]
  },
  {
   "cell_type": "code",
   "execution_count": 20,
   "metadata": {},
   "outputs": [],
   "source": [
    "classifiers = [CartCustomDecisionTree(),\n",
    "               LinearClassifierDecisionTree(LogisticRegression, solver='lbfgs', penalty='none'),\n",
    "               LinearClassifierDecisionTree(LinearSVC, max_iter=5000),\n",
    "               MaxCartDecisionTree(),\n",
    "               MaxLCDecisionTree(LogisticRegression, solver='lbfgs', penalty='none'),\n",
    "               OC1Wrapper(num_restarts=20, num_jumps=5)\n",
    "              ]"
   ]
  },
  {
   "cell_type": "code",
   "execution_count": 24,
   "metadata": {
    "scrolled": true
   },
   "outputs": [
    {
     "name": "stdout",
     "output_type": "stream",
     "text": [
      "Maximum wait time: 00:05:00.000.\n",
      "1/1: Evaluated MaxEveryNodeDT on cruise-medium-latest in 00:00:01.481.\n",
      "Done.\n"
     ]
    }
   ],
   "source": [
    "suite.benchmark(classifiers)"
   ]
  },
  {
   "cell_type": "code",
   "execution_count": 25,
   "metadata": {},
   "outputs": [
    {
     "data": {
      "text/html": [
       "<html><a href=\"benchmark.html\" target=\"_blank\">View table</a></html>"
      ],
      "text/plain": [
       "<IPython.core.display.HTML object>"
      ]
     },
     "metadata": {},
     "output_type": "display_data"
    }
   ],
   "source": [
    "suite.display_html()"
   ]
  },
  {
   "cell_type": "code",
   "execution_count": 23,
   "metadata": {},
   "outputs": [],
   "source": [
    "suite.delete_cell('cruise-medium-latest', 'MaxEveryNodeDT')"
   ]
  },
  {
   "cell_type": "code",
   "execution_count": null,
   "metadata": {},
   "outputs": [],
   "source": []
  }
 ],
 "metadata": {
  "kernelspec": {
   "display_name": "Python 3",
   "language": "python",
   "name": "python3"
  },
  "language_info": {
   "codemirror_mode": {
    "name": "ipython",
    "version": 3
   },
   "file_extension": ".py",
   "mimetype": "text/x-python",
   "name": "python",
   "nbconvert_exporter": "python",
   "pygments_lexer": "ipython3",
   "version": "3.6.8"
  },
  "pycharm": {
   "stem_cell": {
    "cell_type": "raw",
    "source": [],
    "metadata": {
     "collapsed": false
    }
   }
  }
 },
 "nbformat": 4,
 "nbformat_minor": 1
}