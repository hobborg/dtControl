{
 "cells": [
  {
   "cell_type": "code",
   "execution_count": 1,
   "metadata": {},
   "outputs": [],
   "source": [
    "%load_ext autoreload\n",
    "%autoreload 2"
   ]
  },
  {
   "cell_type": "code",
   "execution_count": 2,
   "metadata": {},
   "outputs": [],
   "source": [
    "from benchmark_suite import BenchmarkSuite\n",
    "from decision_tree_wrapper import DecisionTreeWrapper\n",
    "from unique_label_decision_tree import UniqueLabelDecisionTree\n",
    "from max_every_node_decision_tree import MaxEveryNodeDecisionTree\n",
    "from multi_output_decision_tree import MultiOutputDecisionTree\n",
    "from smarter_splits.LinearClassifierDecisionTree import LinearClassifierDecisionTree\n",
    "from smarter_splits.OC1Wrapper import OC1Wrapper\n",
    "from sklearn.linear_model import LogisticRegression\n",
    "from sklearn.svm import LinearSVC\n",
    "from table_printer import print_table"
   ]
  },
  {
   "cell_type": "code",
   "execution_count": 3,
   "metadata": {},
   "outputs": [],
   "source": [
    "suite = BenchmarkSuite(timeout=100)\n",
    "suite.load_datasets('../XYdatasets', exclude=[], multiout=['vehicle'])"
   ]
  },
  {
   "cell_type": "code",
   "execution_count": 4,
   "metadata": {},
   "outputs": [],
   "source": [
    "classifiers = [DecisionTreeWrapper(presort=False,criterion='entropy', min_samples_split=2),\n",
    "               UniqueLabelDecisionTree(presort=False,criterion='entropy', min_samples_split=2),\n",
    "               LinearClassifierDecisionTree(LogisticRegression, solver='lbfgs', penalty='none'),\n",
    "               LinearClassifierDecisionTree(LinearSVC, max_iter=5000),\n",
    "               MaxEveryNodeDecisionTree(LogisticRegression, solver='lbfgs', penalty='none'),\n",
    "               OC1Wrapper(num_restarts=20, num_jumps=5),\n",
    "               MultiOutputDecisionTree(presort=False,criterion='entropy', min_samples_split=2)\n",
    "              ]"
   ]
  },
  {
   "cell_type": "code",
   "execution_count": 5,
   "metadata": {},
   "outputs": [
    {
     "name": "stdout",
     "output_type": "stream",
     "text": [
      "Loaded DT on cartpole (1/42).\n",
      "Loaded UniqueLabelDT on cartpole (2/42).\n",
      "Loaded LinearClassifierDT(LogisticRegression) on cartpole (3/42).\n",
      "Loaded LinearClassifierDT(LinearSVC) on cartpole (4/42).\n",
      "Loaded MaxEveryNodeDT(LogisticRegression) on cartpole (5/42).\n",
      "Loaded OC1 on cartpole (6/42).\n",
      "Tested MultiOutputDT on cartpole (7/42).\n",
      "Loaded DT on cruise-latest (8/42).\n",
      "Loaded UniqueLabelDT on cruise-latest (9/42).\n",
      "Loaded LinearClassifierDT(LogisticRegression) on cruise-latest (10/42).\n",
      "Loaded LinearClassifierDT(LinearSVC) on cruise-latest (11/42).\n",
      "Loaded MaxEveryNodeDT(LogisticRegression) on cruise-latest (12/42).\n",
      "Loaded OC1 on cruise-latest (13/42).\n",
      "Tested MultiOutputDT on cruise-latest (14/42).\n",
      "Loaded DT on cruise-medium-latest (15/42).\n",
      "Loaded UniqueLabelDT on cruise-medium-latest (16/42).\n",
      "Loaded LinearClassifierDT(LogisticRegression) on cruise-medium-latest (17/42).\n",
      "Loaded LinearClassifierDT(LinearSVC) on cruise-medium-latest (18/42).\n",
      "Loaded MaxEveryNodeDT(LogisticRegression) on cruise-medium-latest (19/42).\n",
      "Loaded OC1 on cruise-medium-latest (20/42).\n",
      "Tested MultiOutputDT on cruise-medium-latest (21/42).\n",
      "Loaded DT on cruise-small-latest (22/42).\n",
      "Loaded UniqueLabelDT on cruise-small-latest (23/42).\n",
      "Loaded LinearClassifierDT(LogisticRegression) on cruise-small-latest (24/42).\n",
      "Loaded LinearClassifierDT(LinearSVC) on cruise-small-latest (25/42).\n",
      "Loaded MaxEveryNodeDT(LogisticRegression) on cruise-small-latest (26/42).\n",
      "Loaded OC1 on cruise-small-latest (27/42).\n",
      "Tested MultiOutputDT on cruise-small-latest (28/42).\n",
      "Loaded DT on tworooms_large (29/42).\n",
      "Loaded UniqueLabelDT on tworooms_large (30/42).\n",
      "Loaded LinearClassifierDT(LogisticRegression) on tworooms_large (31/42).\n",
      "Loaded LinearClassifierDT(LinearSVC) on tworooms_large (32/42).\n",
      "Loaded MaxEveryNodeDT(LogisticRegression) on tworooms_large (33/42).\n",
      "Loaded OC1 on tworooms_large (34/42).\n",
      "Tested MultiOutputDT on tworooms_large (35/42).\n",
      "Loaded DT on vehicle (36/42).\n",
      "Loaded UniqueLabelDT on vehicle (37/42).\n",
      "Loaded LinearClassifierDT(LogisticRegression) on vehicle (38/42).\n",
      "Loaded LinearClassifierDT(LinearSVC) on vehicle (39/42).\n",
      "Loaded MaxEveryNodeDT(LogisticRegression) on vehicle (40/42).\n",
      "Loaded OC1 on vehicle (41/42).\n",
      "Tested MultiOutputDT on vehicle (42/42).\n",
      "Done.\n"
     ]
    },
    {
     "data": {
      "text/html": [
       "<html><a href=\"tmp/benchmark.html\" target=\"_blank\">Open table</a></html>"
      ],
      "text/plain": [
       "<IPython.core.display.HTML object>"
      ]
     },
     "metadata": {},
     "output_type": "display_data"
    }
   ],
   "source": [
    "print_table(suite.benchmark(classifiers, file='benchmark.json'), inline=False)"
   ]
  },
  {
   "cell_type": "code",
   "execution_count": 7,
   "metadata": {},
   "outputs": [],
   "source": [
    "suite.delete_dataset_results('cruise-small-latest')"
   ]
  },
  {
   "cell_type": "code",
   "execution_count": null,
   "metadata": {},
   "outputs": [],
   "source": []
  }
 ],
 "metadata": {
  "kernelspec": {
   "display_name": "Python 3",
   "language": "python",
   "name": "python3"
  },
  "language_info": {
   "codemirror_mode": {
    "name": "ipython",
    "version": 3
   },
   "file_extension": ".py",
   "mimetype": "text/x-python",
   "name": "python",
   "nbconvert_exporter": "python",
   "pygments_lexer": "ipython3",
   "version": "3.6.8"
  }
 },
 "nbformat": 4,
 "nbformat_minor": 1
}
