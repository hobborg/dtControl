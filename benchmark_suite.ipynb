{
 "cells": [
  {
   "cell_type": "code",
   "execution_count": 1,
   "metadata": {},
   "outputs": [],
   "source": [
    "%load_ext autoreload\n",
    "%autoreload 2"
   ]
  },
  {
   "cell_type": "code",
   "execution_count": 2,
   "metadata": {},
   "outputs": [],
   "source": [
    "from benchmark_suite import BenchmarkSuite\n",
    "from decision_tree_wrapper import DecisionTreeWrapper\n",
    "from unique_label_decision_tree import UniqueLabelDecisionTree\n",
    "from max_every_node_decision_tree import MaxEveryNodeDecisionTree\n",
    "from smarter_splits.LinearClassifierDecisionTree import LinearClassifierDecisionTree\n",
    "from smarter_splits.OC1Wrapper import OC1Wrapper\n",
    "from sklearn.linear_model import LogisticRegression\n",
    "from sklearn.svm import LinearSVC\n",
    "from table_printer import print_table"
   ]
  },
  {
   "cell_type": "code",
   "execution_count": 3,
   "metadata": {},
   "outputs": [],
   "source": [
    "suite = BenchmarkSuite(timeout=100)\n",
    "suite.load_datasets('../XYdatasets', exclude=[])"
   ]
  },
  {
   "cell_type": "code",
   "execution_count": 4,
   "metadata": {},
   "outputs": [],
   "source": [
    "classifiers = [DecisionTreeWrapper(presort=False,criterion='entropy', min_samples_split=2),\n",
    "               UniqueLabelDecisionTree(presort=False,criterion='entropy', min_samples_split=2),\n",
    "               LinearClassifierDecisionTree(LogisticRegression, solver='lbfgs', penalty='none'),\n",
    "               LinearClassifierDecisionTree(LinearSVC, max_iter=5000),\n",
    "               MaxEveryNodeDecisionTree(LogisticRegression, solver='lbfgs', penalty='none'),\n",
    "               OC1Wrapper(num_restarts=20, num_jumps=5)\n",
    "              ]"
   ]
  },
  {
   "cell_type": "code",
   "execution_count": 5,
   "metadata": {},
   "outputs": [
    {
     "name": "stdout",
     "output_type": "stream",
     "text": [
      "Loaded DT on cartpole (1/30).\n",
      "Loaded UniqueLabelDT on cartpole (2/30).\n",
      "Loaded LinearClassifierDT(LogisticRegression) on cartpole (3/30).\n",
      "Loaded LinearClassifierDT(LinearSVC) on cartpole (4/30).\n",
      "Loaded MaxEveryNodeDT(LogisticRegression) on cartpole (5/30).\n",
      "Loaded OC1 on cartpole (6/30).\n",
      "Loaded DT on cruise-latest (7/30).\n",
      "Loaded UniqueLabelDT on cruise-latest (8/30).\n",
      "Loaded LinearClassifierDT(LogisticRegression) on cruise-latest (9/30).\n",
      "Loaded LinearClassifierDT(LinearSVC) on cruise-latest (10/30).\n",
      "Loaded MaxEveryNodeDT(LogisticRegression) on cruise-latest (11/30).\n",
      "Loaded OC1 on cruise-latest (12/30).\n",
      "Loaded DT on cruise-medium-latest (13/30).\n",
      "Loaded UniqueLabelDT on cruise-medium-latest (14/30).\n",
      "Loaded LinearClassifierDT(LogisticRegression) on cruise-medium-latest (15/30).\n",
      "Loaded LinearClassifierDT(LinearSVC) on cruise-medium-latest (16/30).\n",
      "Loaded MaxEveryNodeDT(LogisticRegression) on cruise-medium-latest (17/30).\n",
      "Loaded OC1 on cruise-medium-latest (18/30).\n",
      "Loaded DT on cruise-small-latest (19/30).\n",
      "Loaded UniqueLabelDT on cruise-small-latest (20/30).\n",
      "Loaded LinearClassifierDT(LogisticRegression) on cruise-small-latest (21/30).\n",
      "Loaded LinearClassifierDT(LinearSVC) on cruise-small-latest (22/30).\n",
      "Loaded MaxEveryNodeDT(LogisticRegression) on cruise-small-latest (23/30).\n",
      "Loaded OC1 on cruise-small-latest (24/30).\n",
      "Loaded DT on tworooms_large (25/30).\n",
      "Loaded UniqueLabelDT on tworooms_large (26/30).\n",
      "Loaded LinearClassifierDT(LogisticRegression) on tworooms_large (27/30).\n",
      "Loaded LinearClassifierDT(LinearSVC) on tworooms_large (28/30).\n",
      "Loaded MaxEveryNodeDT(LogisticRegression) on tworooms_large (29/30).\n",
      "Loaded OC1 on tworooms_large (30/30).\n",
      "Done.\n"
     ]
    }
   ],
   "source": [
    "print_table(suite.benchmark(classifiers, file='benchmark.json'), inline=False)"
   ]
  },
  {
   "cell_type": "code",
   "execution_count": 14,
   "metadata": {},
   "outputs": [],
   "source": [
    "suite.delete_classifier_results('LinearClassifierDT(Perceptron)')"
   ]
  },
  {
   "cell_type": "code",
   "execution_count": null,
   "metadata": {},
   "outputs": [],
   "source": []
  }
 ],
 "metadata": {
  "kernelspec": {
   "display_name": "Python 3",
   "language": "python",
   "name": "python3"
  },
  "language_info": {
   "codemirror_mode": {
    "name": "ipython",
    "version": 3
   },
   "file_extension": ".py",
   "mimetype": "text/x-python",
   "name": "python",
   "nbconvert_exporter": "python",
   "pygments_lexer": "ipython3",
   "version": "3.6.8"
  }
 },
 "nbformat": 4,
 "nbformat_minor": 1
}
