{
 "cells": [
  {
   "cell_type": "code",
   "execution_count": 1,
   "metadata": {},
   "outputs": [],
   "source": [
    "%load_ext autoreload\n",
    "%autoreload 2"
   ]
  },
  {
   "cell_type": "code",
   "execution_count": 3,
   "metadata": {},
   "outputs": [],
   "source": [
    "from benchmark_suite import BenchmarkSuite\n",
    "from decision_tree_wrapper import DecisionTreeWrapper\n",
    "from unique_label_decision_tree import UniqueLabelDecisionTree\n",
    "from max_every_node_decision_tree import MaxEveryNodeDecisionTree\n",
    "from max_every_node_lc_decision_tree import MaxEveryNodeLCDecisionTree\n",
    "from multi_output_decision_tree import MultiOutputDecisionTree\n",
    "from linear_classifier_decision_tree import LinearClassifierDecisionTree\n",
    "from smarter_splits.OC1Wrapper import OC1Wrapper\n",
    "from sklearn.linear_model import LogisticRegression\n",
    "from sklearn.svm import LinearSVC\n",
    "from table_printer import print_table"
   ]
  },
  {
   "cell_type": "code",
   "execution_count": 4,
   "metadata": {},
   "outputs": [],
   "source": [
    "suite = BenchmarkSuite(timeout=120)\n",
    "suite.load_datasets('../XYdatasets', exclude=[], multiout=['vehicle', 'aircraft'])"
   ]
  },
  {
   "cell_type": "code",
   "execution_count": 5,
   "metadata": {},
   "outputs": [],
   "source": [
    "classifiers = [DecisionTreeWrapper(presort=False,criterion='entropy', min_samples_split=2),\n",
    "               UniqueLabelDecisionTree(presort=False,criterion='entropy', min_samples_split=2),\n",
    "               LinearClassifierDecisionTree(LogisticRegression, solver='lbfgs', penalty='none'),\n",
    "               LinearClassifierDecisionTree(LinearSVC, max_iter=5000),\n",
    "               MaxEveryNodeDecisionTree(),\n",
    "               MaxEveryNodeLCDecisionTree(LogisticRegression, solver='lbfgs', penalty='none'),\n",
    "               OC1Wrapper(num_restarts=20, num_jumps=5),\n",
    "               MultiOutputDecisionTree(presort=False,criterion='entropy', min_samples_split=2)\n",
    "              ]"
   ]
  },
  {
   "cell_type": "code",
   "execution_count": 6,
   "metadata": {
    "scrolled": true
   },
   "outputs": [
    {
     "name": "stdout",
     "output_type": "stream",
     "text": [
      "Loaded DT on aircraft (1/56).\n",
      "Loaded UniqueLabelDT on aircraft (2/56).\n",
      "Loaded LinearClassifierDT(LogisticRegression) on aircraft (3/56).\n",
      "Loaded LinearClassifierDT(LinearSVC) on aircraft (4/56).\n",
      "Tested MaxEveryNodeDT on aircraft (5/56).\n",
      "Tested MaxEveryNodeLCDT(LogisticRegression) on aircraft (6/56).\n",
      "Loaded OC1 on aircraft (7/56).\n",
      "Loaded MultiOutputDT on aircraft (8/56).\n",
      "Loaded DT on cartpole (9/56).\n",
      "Loaded UniqueLabelDT on cartpole (10/56).\n",
      "Loaded LinearClassifierDT(LogisticRegression) on cartpole (11/56).\n",
      "Loaded LinearClassifierDT(LinearSVC) on cartpole (12/56).\n",
      "Tested MaxEveryNodeDT on cartpole (13/56).\n",
      "Tested MaxEveryNodeLCDT(LogisticRegression) on cartpole (14/56).\n",
      "Loaded OC1 on cartpole (15/56).\n",
      "Loaded MultiOutputDT on cartpole (16/56).\n",
      "Loaded DT on cruise-latest (17/56).\n",
      "Loaded UniqueLabelDT on cruise-latest (18/56).\n",
      "Loaded LinearClassifierDT(LogisticRegression) on cruise-latest (19/56).\n",
      "Loaded LinearClassifierDT(LinearSVC) on cruise-latest (20/56).\n",
      "Tested MaxEveryNodeDT on cruise-latest (21/56).\n",
      "Tested MaxEveryNodeLCDT(LogisticRegression) on cruise-latest (22/56).\n",
      "Loaded OC1 on cruise-latest (23/56).\n",
      "Loaded MultiOutputDT on cruise-latest (24/56).\n",
      "Loaded DT on cruise-medium-latest (25/56).\n",
      "Loaded UniqueLabelDT on cruise-medium-latest (26/56).\n",
      "Loaded LinearClassifierDT(LogisticRegression) on cruise-medium-latest (27/56).\n",
      "Loaded LinearClassifierDT(LinearSVC) on cruise-medium-latest (28/56).\n",
      "Tested MaxEveryNodeDT on cruise-medium-latest (29/56).\n",
      "Tested MaxEveryNodeLCDT(LogisticRegression) on cruise-medium-latest (30/56).\n",
      "Loaded OC1 on cruise-medium-latest (31/56).\n",
      "Loaded MultiOutputDT on cruise-medium-latest (32/56).\n",
      "Loaded DT on cruise-small-latest (33/56).\n",
      "Loaded UniqueLabelDT on cruise-small-latest (34/56).\n",
      "Loaded LinearClassifierDT(LogisticRegression) on cruise-small-latest (35/56).\n",
      "Loaded LinearClassifierDT(LinearSVC) on cruise-small-latest (36/56).\n",
      "Tested MaxEveryNodeDT on cruise-small-latest (37/56).\n",
      "Tested MaxEveryNodeLCDT(LogisticRegression) on cruise-small-latest (38/56).\n",
      "Loaded OC1 on cruise-small-latest (39/56).\n",
      "Loaded MultiOutputDT on cruise-small-latest (40/56).\n",
      "Loaded DT on tworooms_large (41/56).\n",
      "Loaded UniqueLabelDT on tworooms_large (42/56).\n",
      "Loaded LinearClassifierDT(LogisticRegression) on tworooms_large (43/56).\n",
      "Loaded LinearClassifierDT(LinearSVC) on tworooms_large (44/56).\n",
      "Tested MaxEveryNodeDT on tworooms_large (45/56).\n",
      "Tested MaxEveryNodeLCDT(LogisticRegression) on tworooms_large (46/56).\n",
      "Loaded OC1 on tworooms_large (47/56).\n",
      "Loaded MultiOutputDT on tworooms_large (48/56).\n",
      "Loaded DT on vehicle (49/56).\n",
      "Loaded UniqueLabelDT on vehicle (50/56).\n",
      "Loaded LinearClassifierDT(LogisticRegression) on vehicle (51/56).\n",
      "Loaded LinearClassifierDT(LinearSVC) on vehicle (52/56).\n",
      "Tested MaxEveryNodeDT on vehicle (53/56).\n",
      "Tested MaxEveryNodeLCDT(LogisticRegression) on vehicle (54/56).\n",
      "Loaded OC1 on vehicle (55/56).\n",
      "Loaded MultiOutputDT on vehicle (56/56).\n",
      "Done.\n"
     ]
    },
    {
     "data": {
      "text/html": [
       "<html><a href=\"tmp/benchmark.html\" target=\"_blank\">View table</a></html>"
      ],
      "text/plain": [
       "<IPython.core.display.HTML object>"
      ]
     },
     "metadata": {},
     "output_type": "display_data"
    }
   ],
   "source": [
    "print_table(suite.benchmark(classifiers, file='benchmark.json'), inline=False)"
   ]
  },
  {
   "cell_type": "code",
   "execution_count": 7,
   "metadata": {},
   "outputs": [],
   "source": [
    "suite.delete_dataset_results('cruise-small-latest')"
   ]
  },
  {
   "cell_type": "code",
   "execution_count": null,
   "metadata": {},
   "outputs": [],
   "source": []
  }
 ],
 "metadata": {
  "kernelspec": {
   "display_name": "Python 3",
   "language": "python",
   "name": "python3"
  },
  "language_info": {
   "codemirror_mode": {
    "name": "ipython",
    "version": 3
   },
   "file_extension": ".py",
   "mimetype": "text/x-python",
   "name": "python",
   "nbconvert_exporter": "python",
   "pygments_lexer": "ipython3",
   "version": "3.6.8"
  }
 },
 "nbformat": 4,
 "nbformat_minor": 1
}
