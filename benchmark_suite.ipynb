{
 "cells": [
  {
   "cell_type": "code",
   "execution_count": 1,
   "metadata": {},
   "outputs": [],
   "source": [
    "%load_ext autoreload\n",
    "%autoreload 2"
   ]
  },
  {
   "cell_type": "code",
   "execution_count": 2,
   "metadata": {},
   "outputs": [],
   "source": [
    "import project_path\n",
    "from benchmark_suite import BenchmarkSuite\n",
    "from decision_tree_wrapper import DecisionTreeWrapper\n",
    "from unique_label_decision_tree import UniqueLabelDecisionTree\n",
    "from max_every_node_decision_tree import MaxEveryNodeDecisionTree\n",
    "from max_every_node_lc_decision_tree import MaxEveryNodeLCDecisionTree\n",
    "from multi_output_decision_tree import MultiOutputDecisionTree\n",
    "from linear_classifier_decision_tree import LinearClassifierDecisionTree\n",
    "from smarter_splits.OC1Wrapper import OC1Wrapper\n",
    "from sklearn.linear_model import LogisticRegression\n",
    "from sklearn.svm import LinearSVC\n",
    "from table_printer import print_table"
   ]
  },
  {
   "cell_type": "code",
   "execution_count": 9,
   "metadata": {},
   "outputs": [],
   "source": [
    "suite = BenchmarkSuite(timeout=60*60*2.4)\n",
    "suite.add_datasets('../XYdatasets', exclude=[], multiout=['vehicle', 'aircraft'])"
   ]
  },
  {
   "cell_type": "code",
   "execution_count": 10,
   "metadata": {},
   "outputs": [],
   "source": [
    "classifiers = [DecisionTreeWrapper(presort=False,criterion='entropy', min_samples_split=2),\n",
    "               UniqueLabelDecisionTree(presort=False,criterion='entropy', min_samples_split=2),\n",
    "               LinearClassifierDecisionTree(LogisticRegression, solver='lbfgs', penalty='none'),\n",
    "               LinearClassifierDecisionTree(LinearSVC, max_iter=5000),\n",
    "               MaxEveryNodeDecisionTree(),\n",
    "               MaxEveryNodeLCDecisionTree(LogisticRegression, solver='lbfgs', penalty='none'),\n",
    "               OC1Wrapper(num_restarts=20, num_jumps=5),\n",
    "               MultiOutputDecisionTree(presort=False,criterion='entropy', min_samples_split=2)\n",
    "              ]"
   ]
  },
  {
   "cell_type": "code",
   "execution_count": 11,
   "metadata": {
    "scrolled": true
   },
   "outputs": [
    {
     "name": "stdout",
     "output_type": "stream",
     "text": [
      "Maximum wait time: 07:12:00.000.\n",
      "1/3: Evaluated LinearClassifierDT(LogisticRegression) on aircraft in 00:36:08.910.\n",
      "2/3: Evaluated LinearClassifierDT(LinearSVC) on aircraft in 02:24:00.129 (Timeout).\n",
      "3/3: Evaluated OC1 on aircraft in 00:12:12.959.\n",
      "Done.\n"
     ]
    },
    {
     "data": {
      "text/html": [
       "<html><a href=\"tmp/benchmark.html\" target=\"_blank\">View table</a></html>"
      ],
      "text/plain": [
       "<IPython.core.display.HTML object>"
      ]
     },
     "metadata": {},
     "output_type": "display_data"
    }
   ],
   "source": [
    "print_table(suite.benchmark(classifiers, file='benchmark.json'), inline=False)"
   ]
  },
  {
   "cell_type": "code",
   "execution_count": 7,
   "metadata": {},
   "outputs": [],
   "source": [
    "suite.delete_dataset_results('cruise-small-latest')"
   ]
  },
  {
   "cell_type": "code",
   "execution_count": null,
   "metadata": {},
   "outputs": [],
   "source": []
  }
 ],
 "metadata": {
  "kernelspec": {
   "display_name": "Python 3",
   "language": "python",
   "name": "python3"
  },
  "language_info": {
   "codemirror_mode": {
    "name": "ipython",
    "version": 3
   },
   "file_extension": ".py",
   "mimetype": "text/x-python",
   "name": "python",
   "nbconvert_exporter": "python",
   "pygments_lexer": "ipython3",
   "version": "3.6.8"
  }
 },
 "nbformat": 4,
 "nbformat_minor": 1
}
