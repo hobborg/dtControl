{
 "cells": [
  {
   "cell_type": "code",
   "execution_count": 31,
   "metadata": {},
   "outputs": [
    {
     "name": "stdout",
     "output_type": "stream",
     "text": [
      "The autoreload extension is already loaded. To reload it, use:\n",
      "  %reload_ext autoreload\n"
     ]
    }
   ],
   "source": [
    "%load_ext autoreload\n",
    "%autoreload 2"
   ]
  },
  {
   "cell_type": "code",
   "execution_count": 32,
   "metadata": {},
   "outputs": [],
   "source": [
    "from benchmark_suite import BenchmarkSuite\n",
    "from decision_tree_wrapper import DecisionTreeWrapper\n",
    "from smarter_splits.LinearClassifierDecisionTree import LinearClassifierDecisionTree\n",
    "from smarter_splits.OC1Wrapper import OC1Wrapper\n",
    "from sklearn.linear_model import LogisticRegression\n",
    "from table_printer import print_table"
   ]
  },
  {
   "cell_type": "code",
   "execution_count": 33,
   "metadata": {},
   "outputs": [],
   "source": [
    "suite = BenchmarkSuite(timeout=100)\n",
    "suite.load_datasets('../XYdatasets', exclude=[])"
   ]
  },
  {
   "cell_type": "code",
   "execution_count": 34,
   "metadata": {},
   "outputs": [],
   "source": [
    "classifiers = [DecisionTreeWrapper(presort=False,criterion='entropy', min_samples_split=2),\n",
    "               LinearClassifierDecisionTree(LogisticRegression, solver='lbfgs', penalty='none'),\n",
    "               OC1Wrapper(num_restarts=20, num_jumps=5)\n",
    "              ]"
   ]
  },
  {
   "cell_type": "code",
   "execution_count": 37,
   "metadata": {},
   "outputs": [
    {
     "name": "stdout",
     "output_type": "stream",
     "text": [
      "Tested 1/9.\n",
      "Loaded 2/9.\n",
      "Loaded 3/9.\n",
      "Loaded 4/9.\n",
      "Tested 5/9.\n",
      "Loaded 6/9.\n",
      "Loaded 7/9.\n",
      "Loaded 8/9.\n",
      "Loaded 9/9.\n",
      "Done.\n"
     ]
    },
    {
     "data": {
      "text/html": [
       "<html><body><table><tr><td></td><th scope=\"col\" style=\"text-align:center\">DecisionTreeClassifier</th><th scope=\"col\" style=\"text-align:center\">LinearClassifierDT(LogisticRegression)</th><th scope=\"col\" style=\"text-align:center\">OC1</th></tr><tr><th scope=\"row\" style=\"text-align:center\">cruise-latest</th><td style=\"text-align:center\">num_nodes: 1015<br>accuracy: 1.0<br></td><td style=\"text-align:center\"><span style=\"color:red\">failed to fit</span></td><td style=\"text-align:center\"><span style=\"color:red\">timeout</span></td></tr><tr><th scope=\"row\" style=\"text-align:center\">cruise-small-latest</th><td style=\"text-align:center\">num_nodes: 109<br>accuracy: 1.0<br></td><td style=\"text-align:center\">num_nodes: 89<br>num_not_aa: 22<br>accuracy: 1.0<br></td><td style=\"text-align:center\">num_nodes: 57<br>num_oblique: 18<br>accuracy: 1.0<br></td></tr><tr><th scope=\"row\" style=\"text-align:center\">cruise-medium-latest</th><td style=\"text-align:center\">num_nodes: 289<br>accuracy: 1.0<br></td><td style=\"text-align:center\">num_nodes: 255<br>num_not_aa: 59<br>accuracy: 1.0<br></td><td style=\"text-align:center\">num_nodes: 147<br>num_oblique: 50<br>accuracy: 1.0<br></td></tr></table></body></html>"
      ],
      "text/plain": [
       "<IPython.core.display.HTML object>"
      ]
     },
     "metadata": {},
     "output_type": "display_data"
    }
   ],
   "source": [
    "print_table(suite.benchmark(classifiers, file='benchmark.json'))"
   ]
  },
  {
   "cell_type": "code",
   "execution_count": null,
   "metadata": {},
   "outputs": [],
   "source": []
  }
 ],
 "metadata": {
  "kernelspec": {
   "display_name": "Python 3",
   "language": "python",
   "name": "python3"
  },
  "language_info": {
   "codemirror_mode": {
    "name": "ipython",
    "version": 3
   },
   "file_extension": ".py",
   "mimetype": "text/x-python",
   "name": "python",
   "nbconvert_exporter": "python",
   "pygments_lexer": "ipython3",
   "version": "3.6.8"
  }
 },
 "nbformat": 4,
 "nbformat_minor": 1
}
