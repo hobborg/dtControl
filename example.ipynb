{
 "cells": [
  {
   "cell_type": "code",
   "execution_count": 1,
   "metadata": {},
   "outputs": [],
   "source": [
    "%load_ext autoreload\n",
    "%autoreload"
   ]
  },
  {
   "cell_type": "code",
   "execution_count": 2,
   "metadata": {},
   "outputs": [],
   "source": [
    "from sklearn.linear_model import LogisticRegression\n",
    "\n",
    "from dtcontrol.benchmark_suite import BenchmarkSuite\n",
    "from dtcontrol.decision_tree.decision_tree import DecisionTree\n",
    "from dtcontrol.decision_tree.determinization.max_freq_determinizer import MaxFreqDeterminizer\n",
    "from dtcontrol.decision_tree.impurity.entropy import Entropy\n",
    "from dtcontrol.decision_tree.impurity.multi_label_entropy import MultiLabelEntropy\n",
    "from dtcontrol.decision_tree.splitting.axis_aligned import AxisAlignedSplittingStrategy\n",
    "from dtcontrol.decision_tree.splitting.linear_classifier import LinearClassifierSplittingStrategy"
   ]
  },
  {
   "cell_type": "code",
   "execution_count": 3,
   "metadata": {},
   "outputs": [
    {
     "name": "stdout",
     "output_type": "stream",
     "text": [
      "INFO: Benchmark statistics will be available in benchmark.json and benchmark.html.\n",
      "INFO: Constructed trees will be written to decision_trees.\n",
      "\n"
     ]
    }
   ],
   "source": [
    "suite = BenchmarkSuite(timeout=60,\n",
    "                       save_folder='saved_classifiers',\n",
    "                       benchmark_file='benchmark',\n",
    "                       rerun=False)"
   ]
  },
  {
   "cell_type": "code",
   "execution_count": 4,
   "metadata": {},
   "outputs": [],
   "source": [
    "suite.add_datasets(['examples', 'examples/prism'], include=['cartpole'])"
   ]
  },
  {
   "cell_type": "code",
   "execution_count": 5,
   "metadata": {},
   "outputs": [],
   "source": [
    "aa = AxisAlignedSplittingStrategy()\n",
    "logreg = LinearClassifierSplittingStrategy(LogisticRegression, solver='lbfgs', penalty=None)\n",
    "classifiers = [\n",
    "    DecisionTree([aa], Entropy(), 'CART'),\n",
    "    DecisionTree([aa, logreg], Entropy(), 'LogReg'),\n",
    "    DecisionTree([aa], Entropy(), 'Early-stopping', early_stopping=True),\n",
    "    DecisionTree([aa], Entropy(MaxFreqDeterminizer()), 'MaxFreq', early_stopping=True),\n",
    "    DecisionTree([aa], MultiLabelEntropy(), 'MultiLabelEntropy', early_stopping=True)\n",
    "]"
   ]
  },
  {
   "cell_type": "code",
   "execution_count": 6,
   "metadata": {
    "scrolled": true
   },
   "outputs": [
    {
     "name": "stdout",
     "output_type": "stream",
     "text": [
      "1/5: Evaluating CART on cartpole... \n",
      "1/5: Not running since the result is already available.\n",
      "2/5: Evaluating LogReg on cartpole... \n",
      "2/5: Not running since the result is already available.\n",
      "3/5: Evaluating Early-stopping on cartpole... \n",
      "3/5: Not running since the result is already available.\n",
      "4/5: Evaluating MaxFreq on cartpole... \n",
      "4/5: Not running since the result is already available.\n",
      "5/5: Evaluating MultiLabelEntropy on cartpole... \n",
      "5/5: Not running since the result is already available.\n",
      "All benchmarks completed. Shutting down dtControl.\n"
     ]
    }
   ],
   "source": [
    "suite.benchmark(classifiers)"
   ]
  },
  {
   "cell_type": "code",
   "execution_count": 7,
   "metadata": {},
   "outputs": [],
   "source": [
    "suite.display_html()"
   ]
  },
  {
   "cell_type": "code",
   "execution_count": 7,
   "metadata": {},
   "outputs": [],
   "source": [
    "# suite.delete_cell('10rooms', 'LinearClassifierDT-LogisticRegression ')\n",
    "# suite.delete_cell('10rooms', 'MaxFreqDT')"
   ]
  }
 ],
 "metadata": {
  "kernelspec": {
   "display_name": "Python 3",
   "language": "python",
   "name": "python3"
  },
  "language_info": {
   "codemirror_mode": {
    "name": "ipython",
    "version": 3
   },
   "file_extension": ".py",
   "mimetype": "text/x-python",
   "name": "python",
   "nbconvert_exporter": "python",
   "pygments_lexer": "ipython3",
   "version": "3.6.9"
  },
  "pycharm": {
   "stem_cell": {
    "cell_type": "raw",
    "metadata": {
     "collapsed": false
    },
    "source": []
   }
  }
 },
 "nbformat": 4,
 "nbformat_minor": 1
}
